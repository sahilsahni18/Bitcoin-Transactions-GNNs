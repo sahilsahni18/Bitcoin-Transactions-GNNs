{
  "metadata": {
    "kernelspec": {
      "language": "python",
      "display_name": "Python 3",
      "name": "python3"
    },
    "language_info": {
      "name": "python",
      "version": "3.10.14",
      "mimetype": "text/x-python",
      "codemirror_mode": {
        "name": "ipython",
        "version": 3
      },
      "pygments_lexer": "ipython3",
      "nbconvert_exporter": "python",
      "file_extension": ".py"
    },
    "kaggle": {
      "accelerator": "nvidiaTeslaT4",
      "dataSources": [
        {
          "sourceId": 584717,
          "sourceType": "datasetVersion",
          "datasetId": 284040
        }
      ],
      "dockerImageVersionId": 30761,
      "isInternetEnabled": true,
      "language": "python",
      "sourceType": "notebook",
      "isGpuEnabled": true
    },
    "colab": {
      "provenance": [],
      "include_colab_link": true
    }
  },
  "nbformat_minor": 0,
  "nbformat": 4,
  "cells": [
    {
      "cell_type": "markdown",
      "metadata": {
        "id": "view-in-github",
        "colab_type": "text"
      },
      "source": [
        "<a href=\"https://colab.research.google.com/github/sahilsahni18/Bitcoin-Transactions-GNNs/blob/main/Bitcoin_Transactions_%2B_Graph_Neural_Networks.ipynb\" target=\"_parent\"><img src=\"https://colab.research.google.com/assets/colab-badge.svg\" alt=\"Open In Colab\"/></a>"
      ]
    },
    {
      "source": [
        "import kagglehub\n",
        "organizations_ellipticco_elliptic_data_set_path = kagglehub.dataset_download('organizations/ellipticco/elliptic-data-set')\n",
        "\n",
        "print('Data source import complete.')\n"
      ],
      "metadata": {
        "id": "6Wpnr7VBoR8V"
      },
      "cell_type": "code",
      "outputs": [],
      "execution_count": null
    },
    {
      "cell_type": "code",
      "source": [
        "!pip install networkx\n",
        "!pip install torch-geometric\n",
        "!pip install node2vec"
      ],
      "metadata": {
        "trusted": true,
        "id": "sC2Eu_32oR8Y"
      },
      "execution_count": null,
      "outputs": []
    },
    {
      "cell_type": "code",
      "source": [
        "# ---------------------- #\n",
        "# General Kaggle imports #\n",
        "# ---------------------- #\n",
        "\n",
        "import os\n",
        "for dirname, _, filenames in os.walk('/kaggle/input'):\n",
        "    for filename in filenames:\n",
        "        print(os.path.join(dirname, filename))\n",
        "\n",
        "import numpy as np\n",
        "import pandas as pd\n",
        "\n",
        "\n",
        "# ------------------ #\n",
        "# Additional imports #\n",
        "# ------------------ #\n",
        "import random\n",
        "import torch\n",
        "import torch_geometric\n",
        "\n",
        "import matplotlib as mpl\n",
        "import matplotlib.pyplot as plt\n",
        "import seaborn as sns\n",
        "import networkx as nx\n",
        "import community as community_louvain\n",
        "import torch.nn.functional as F\n",
        "\n",
        "\n",
        "from torch import Tensor\n",
        "from torch_geometric.nn import GCNConv, GATConv\n",
        "from sklearn.metrics import (\n",
        "    precision_score,\n",
        "    recall_score,\n",
        "    f1_score,\n",
        "    confusion_matrix,\n",
        "    classification_report,\n",
        "    ConfusionMatrixDisplay\n",
        ")\n",
        "from sklearn.preprocessing import LabelEncoder\n",
        "from torch_geometric.data import Data\n",
        "from scipy.stats import ttest_ind\n",
        "\n",
        "print(\"Torch version:\", torch.__version__)\n",
        "print(\"Torch Geometric version:\", torch_geometric.__version__)\n",
        "\n",
        "import warnings\n",
        "warnings.filterwarnings(\"ignore\", category=FutureWarning)\n",
        "warnings.filterwarnings(\"ignore\", category=mpl.MatplotlibDeprecationWarning)"
      ],
      "metadata": {
        "_uuid": "8f2839f25d086af736a60e9eeb907d3b93b6e0e5",
        "_cell_guid": "b1076dfc-b9ad-4769-8c92-a6c4dae69d19",
        "execution": {
          "iopub.status.busy": "2024-09-05T20:48:38.538341Z",
          "iopub.execute_input": "2024-09-05T20:48:38.538702Z",
          "iopub.status.idle": "2024-09-05T20:48:44.280371Z",
          "shell.execute_reply.started": "2024-09-05T20:48:38.538663Z",
          "shell.execute_reply": "2024-09-05T20:48:44.279338Z"
        },
        "trusted": true,
        "id": "VXyqPua-oR8Z"
      },
      "execution_count": null,
      "outputs": []
    },
    {
      "cell_type": "code",
      "source": [
        "!nvcc --version"
      ],
      "metadata": {
        "execution": {
          "iopub.status.busy": "2024-09-05T20:48:44.281552Z",
          "iopub.execute_input": "2024-09-05T20:48:44.282156Z",
          "iopub.status.idle": "2024-09-05T20:48:45.451319Z",
          "shell.execute_reply.started": "2024-09-05T20:48:44.282118Z",
          "shell.execute_reply": "2024-09-05T20:48:45.449942Z"
        },
        "trusted": true,
        "id": "X9jpK2DboR8a"
      },
      "execution_count": null,
      "outputs": []
    },
    {
      "cell_type": "markdown",
      "source": [
        "<img src=\"https://www.bitcoinsistemi.com/wp-content/uploads/2023/12/bitcoin.jpg\" alt=\"Bitcoin Graph Image\" width=\"800\"/>\n",
        "\n",
        "# 💰Bitcoin Transactions 🔗 Graph Neural Networks 🪙\n",
        "\n",
        "This notebook tackles [Kaggles Elliptic Bitcoin Transaction Dataset](https://www.kaggle.com/datasets/ellipticco/elliptic-data-set/data) which maps Bitcoin transactions to real entities. In the description the objective for this dataset is described as:\n",
        "> classifying the illicit and licit nodes in the graph.\n",
        "\n",
        "[Wikipedia describes Bitcoin](https://en.wikipedia.org/wiki/Bitcoin) as the first decentralized cryptocurrency. It also states that nodes in the Bitcoin network verify transactions through cryptography and record them in a public distributed ledger, called _blockchain_. The dataset we are going to work on in this notebook is an anonymized transaction graph collexted from such Bitcoin blockchain. Kaggles Data Card describes the dataset as having the following content:\n",
        "\n",
        "__Dataset Content__\n",
        "- _Node_: represents a transaction.\n",
        "    - Each has 166 features\n",
        "    - Labeled as ✅ _licit_, ❌ _illicit_ or 🤷 _unknown_\n",
        "- _Edge_: represents a flow of Bitcoins between transaction `A` and transaction `B`\n",
        "\n",
        "Before we start, here are a couple concepts you should know for better understanding of the following code:\n",
        "\n",
        "| Concept | Math Notation | Description | More Information |\n",
        "| ------- | ------------- | ----------- | ---------------- |\n",
        "| Graph | $G$ | Defined as pair $G=(V,E)$, where $V$ is a set of vertices and $E$ is a set of edges which are unordered pairs ${v_1, v_2}$ of vertices. | [Wikipedia: Graph (discrete mathematics)](https://en.wikipedia.org/wiki/Graph_(discrete_mathematics)) |\n",
        "| Degree | $deg$ | Number of edges that are incident to a vertex. | [Wikipedia: Degree (graph theory)](https://en.wikipedia.org/wiki/Degree_(graph_theory)) |\n",
        "| Component | | Connected subgraph that is not part of any larger connected subgraph. | [Wikipedia: Component (graph theory](https://en.wikipedia.org/wiki/Component_(graph_theory)) |\n",
        "\n",
        "🚨 In the following notebook we will always call the graph $G$, the set of nodes $V$ and the set of edges $E$. 🚨"
      ],
      "metadata": {
        "id": "3g7vLHLFoR8a"
      }
    },
    {
      "cell_type": "markdown",
      "source": [
        "# ⚙️ Global Settings"
      ],
      "metadata": {
        "id": "1g3LruFuoR8c"
      }
    },
    {
      "cell_type": "code",
      "source": [
        "RANDOM_STATE = 42\n",
        "NUM_EPOCHS = 100"
      ],
      "metadata": {
        "execution": {
          "iopub.status.busy": "2024-09-05T20:48:45.454739Z",
          "iopub.execute_input": "2024-09-05T20:48:45.455131Z",
          "iopub.status.idle": "2024-09-05T20:48:45.460702Z",
          "shell.execute_reply.started": "2024-09-05T20:48:45.455091Z",
          "shell.execute_reply": "2024-09-05T20:48:45.459556Z"
        },
        "trusted": true,
        "id": "vDaH9nMpoR8c"
      },
      "execution_count": null,
      "outputs": []
    },
    {
      "cell_type": "code",
      "source": [
        "def set_seed_for_torch(seed):\n",
        "    torch.manual_seed(seed)\n",
        "    if torch.cuda.is_available():\n",
        "        torch.cuda.manual_seed(seed)      # For single-GPU.\n",
        "        torch.cuda.manual_seed_all(seed)  # For multi-GPU.\n",
        "    torch.backends.cudnn.deterministic = True\n",
        "    torch.backends.cudnn.benchmark = False\n",
        "\n",
        "def set_seed_for_numpy(seed):\n",
        "    np.random.seed(seed)\n",
        "\n",
        "def set_seed_for_random(seed):\n",
        "    random.seed(seed)"
      ],
      "metadata": {
        "execution": {
          "iopub.status.busy": "2024-09-05T20:48:45.462166Z",
          "iopub.execute_input": "2024-09-05T20:48:45.462823Z",
          "iopub.status.idle": "2024-09-05T20:48:45.473355Z",
          "shell.execute_reply.started": "2024-09-05T20:48:45.462784Z",
          "shell.execute_reply": "2024-09-05T20:48:45.472207Z"
        },
        "trusted": true,
        "id": "Uk7JA3AHoR8d"
      },
      "execution_count": null,
      "outputs": []
    },
    {
      "cell_type": "code",
      "source": [
        "set_seed_for_torch(RANDOM_STATE)\n",
        "set_seed_for_numpy(RANDOM_STATE)\n",
        "set_seed_for_random(RANDOM_STATE)"
      ],
      "metadata": {
        "execution": {
          "iopub.status.busy": "2024-09-05T20:48:45.474849Z",
          "iopub.execute_input": "2024-09-05T20:48:45.475872Z",
          "iopub.status.idle": "2024-09-05T20:48:45.549991Z",
          "shell.execute_reply.started": "2024-09-05T20:48:45.475833Z",
          "shell.execute_reply": "2024-09-05T20:48:45.54906Z"
        },
        "trusted": true,
        "id": "Wochak0boR8d"
      },
      "execution_count": null,
      "outputs": []
    },
    {
      "cell_type": "markdown",
      "source": [
        "# 🛠️ Helper Methods"
      ],
      "metadata": {
        "id": "20LCpxEmoR8e"
      }
    },
    {
      "cell_type": "code",
      "source": [
        "# ------------------------------------------- #\n",
        "# Training, Evaluation and prediction methods #\n",
        "# ------------------------------------------- #\n",
        "\n",
        "def train(model, data, optimizer, criterion):\n",
        "    model.train()\n",
        "    optimizer.zero_grad()\n",
        "    out = model(data)\n",
        "    loss = criterion(out[data.train_mask], data.y[data.train_mask])\n",
        "    loss.backward()\n",
        "    optimizer.step()\n",
        "    return loss.item()\n",
        "\n",
        "\n",
        "def evaluate(model, data, mask):\n",
        "    model.eval()\n",
        "    with torch.no_grad():\n",
        "        out = model(data)\n",
        "        pred = out.argmax(dim=1)\n",
        "\n",
        "        correct = (pred[mask] == data.y[mask]).sum().item()\n",
        "        accuracy = correct / mask.sum().item()\n",
        "\n",
        "        y_true = data.y[mask].cpu().numpy()\n",
        "        y_pred = pred[mask].cpu().numpy()\n",
        "\n",
        "        precision = precision_score(y_true, y_pred, average='weighted', zero_division=0)\n",
        "        recall = recall_score(y_true, y_pred, average='weighted', zero_division=0)\n",
        "        f1 = f1_score(y_true, y_pred, average='weighted', zero_division=0)\n",
        "\n",
        "        metrics = {\n",
        "            'accuracy': accuracy,\n",
        "            'precision': precision,\n",
        "            'recall': recall,\n",
        "            'f1_score': f1\n",
        "        }\n",
        "\n",
        "    return metrics\n",
        "\n",
        "def predict(model, data):\n",
        "    model.eval()\n",
        "    with torch.no_grad():\n",
        "        out = model(data)\n",
        "        pred = out.argmax(dim=1)\n",
        "    return pred\n",
        "\n",
        "def predict_probabilities(model, data):\n",
        "    model.eval()\n",
        "    with torch.no_grad():\n",
        "        out = model(data)\n",
        "        probabilities = torch.exp(out)\n",
        "    return probabilities"
      ],
      "metadata": {
        "execution": {
          "iopub.status.busy": "2024-09-05T20:50:59.97947Z",
          "iopub.execute_input": "2024-09-05T20:50:59.979942Z",
          "iopub.status.idle": "2024-09-05T20:50:59.993191Z",
          "shell.execute_reply.started": "2024-09-05T20:50:59.979897Z",
          "shell.execute_reply": "2024-09-05T20:50:59.991938Z"
        },
        "trusted": true,
        "id": "MKn6VLJ8oR8e"
      },
      "execution_count": null,
      "outputs": []
    },
    {
      "cell_type": "code",
      "source": [
        "def train_gnn(num_epochs, data, model, optimizer, criterion):\n",
        "\n",
        "    train_losses = []\n",
        "    train_accuracies = []\n",
        "    train_precisions = []\n",
        "    train_recalls = []\n",
        "    train_f1_scores = []\n",
        "\n",
        "    val_accuracies = []\n",
        "    val_precisions = []\n",
        "    val_recalls = []\n",
        "    val_f1_scores = []\n",
        "\n",
        "    # ----- #\n",
        "    # Train #\n",
        "    # ----- #\n",
        "\n",
        "    for epoch in range(1, num_epochs + 1):\n",
        "        model.train()\n",
        "        optimizer.zero_grad()\n",
        "        out = model(data)\n",
        "        loss = criterion(out[data.train_mask],\n",
        "                         data.y[data.train_mask])\n",
        "        loss.backward()\n",
        "        optimizer.step()\n",
        "\n",
        "        # --- Calculate training metrics ---\n",
        "        pred_train = out[data.train_mask].argmax(dim=1)\n",
        "        correct_train = (pred_train == data.y[data.train_mask]).sum()\n",
        "        train_acc = int(correct_train) / int(data.train_mask.sum())\n",
        "        train_accuracies.append(train_acc)\n",
        "\n",
        "        y_true_train = data.y[data.train_mask].cpu().numpy()\n",
        "        y_pred_train = pred_train.cpu().numpy()\n",
        "\n",
        "        train_prec = precision_score(y_true_train, y_pred_train, average='weighted', zero_division=0)\n",
        "        train_rec = recall_score(y_true_train, y_pred_train, average='weighted', zero_division=0)\n",
        "        train_f1 = f1_score(y_true_train, y_pred_train, average='weighted', zero_division=0)\n",
        "\n",
        "        train_precisions.append(train_prec)\n",
        "        train_recalls.append(train_rec)\n",
        "        train_f1_scores.append(train_f1)\n",
        "        train_losses.append(loss.item())\n",
        "\n",
        "        # --- Validate and calculate validation metrics ---\n",
        "        model.eval()\n",
        "        with torch.no_grad():\n",
        "            out = model(data)\n",
        "            pred_val = out[data.val_mask].argmax(dim=1)\n",
        "            correct_val = (pred_val == data.y[data.val_mask]).sum()\n",
        "            val_acc = int(correct_val) / int(data.val_mask.sum())\n",
        "            val_accuracies.append(val_acc)\n",
        "\n",
        "            y_true_val = data.y[data.val_mask].cpu().numpy()\n",
        "            y_pred_val = pred_val.cpu().numpy()\n",
        "\n",
        "            val_prec = precision_score(y_true_val, y_pred_val, average='weighted', zero_division=0)\n",
        "            val_rec = recall_score(y_true_val, y_pred_val, average='weighted', zero_division=0)\n",
        "            val_f1 = f1_score(y_true_val, y_pred_val, average='weighted', zero_division=0)\n",
        "\n",
        "            val_precisions.append(val_prec)\n",
        "            val_recalls.append(val_rec)\n",
        "            val_f1_scores.append(val_f1)\n",
        "\n",
        "        if epoch % 10 == 0:\n",
        "            print(f'Epoch {epoch:03d}, Loss: {loss:.4f}, Train - Acc: {train_acc:.4f} - Prec: {train_prec:.4f} - Rec: {train_rec:.4f} - F1: {train_f1:.4f}')\n",
        "            print(f'                         Val   - Acc: {val_acc:.4f} - Prec: {val_prec:.4f} - Rec: {val_rec:.4f} - F1: {val_f1:.4f}')\n",
        "\n",
        "    return {\n",
        "        'train': {\n",
        "            'losses': train_losses,\n",
        "            'accuracies': train_accuracies,\n",
        "            'precisions': train_precisions,\n",
        "            'recalls': train_recalls,\n",
        "            'f1_scores': train_f1_scores,\n",
        "        },\n",
        "        'val': {\n",
        "            'accuracies': val_accuracies,\n",
        "            'precisions': val_precisions,\n",
        "            'recalls': val_recalls,\n",
        "            'f1_scores': val_f1_scores,\n",
        "        }\n",
        "    }"
      ],
      "metadata": {
        "execution": {
          "iopub.status.busy": "2024-09-05T20:48:45.566265Z",
          "iopub.execute_input": "2024-09-05T20:48:45.567089Z",
          "iopub.status.idle": "2024-09-05T20:48:45.585362Z",
          "shell.execute_reply.started": "2024-09-05T20:48:45.56705Z",
          "shell.execute_reply": "2024-09-05T20:48:45.584405Z"
        },
        "trusted": true,
        "id": "qEUzEovWoR8e"
      },
      "execution_count": null,
      "outputs": []
    },
    {
      "cell_type": "code",
      "source": [
        "def plot_train_val_test_metrics(train_val_metrics, test_metrics, num_epochs):\n",
        "    plt.figure(figsize=(10, 6))\n",
        "\n",
        "    # --- Accuracy ----\n",
        "    plt.subplot(2, 2, 1)\n",
        "    plt.plot(range(1, num_epochs + 1), train_val_metrics['train']['accuracies'], color='C0', linewidth=1.0, label='Training')\n",
        "    plt.plot(range(1, num_epochs + 1), train_val_metrics['val']['accuracies'], color='C1', linewidth=1.0, label='Validation', linestyle=':')\n",
        "    plt.axhline(y=test_metrics['accuracy'], color='C2', linewidth=0.5, linestyle='--', label='Test')\n",
        "    plt.xlabel('Epoch')\n",
        "    plt.ylabel('Accuracy')\n",
        "    plt.legend(fontsize=8)\n",
        "    plt.title('Accuracy')\n",
        "\n",
        "    # --- Precision ---\n",
        "    plt.subplot(2, 2, 2)\n",
        "    plt.plot(range(1, num_epochs + 1), train_val_metrics['train']['precisions'], color='C0', linewidth=1.0, label='Training')\n",
        "    plt.plot(range(1, num_epochs + 1), train_val_metrics['val']['precisions'], color='C1', linewidth=1.0, label='Validation', linestyle=':')\n",
        "    plt.axhline(y=test_metrics['precision'], color='C2', linewidth=0.5, linestyle='--', label='Test')\n",
        "    plt.xlabel('Epoch')\n",
        "    plt.ylabel('Precision')\n",
        "    plt.legend(fontsize=8)\n",
        "    plt.title('Precision')\n",
        "\n",
        "    # --- Recall ---\n",
        "    plt.subplot(2, 2, 3)\n",
        "    plt.plot(range(1, num_epochs + 1), train_val_metrics['train']['recalls'], color='C0', linewidth=1.0, label='Training')\n",
        "    plt.plot(range(1, num_epochs + 1), train_val_metrics['val']['recalls'], color='C1', linewidth=1.0, label='Validation', linestyle=':')\n",
        "    plt.axhline(y=test_metrics['recall'], color='C2', linewidth=0.5, linestyle='--', label='Test')\n",
        "    plt.xlabel('Epoch')\n",
        "    plt.ylabel('Recall')\n",
        "    plt.legend(fontsize=8)\n",
        "    plt.title('Recall')\n",
        "\n",
        "    # --- F1-Score ---\n",
        "    plt.subplot(2, 2, 4)\n",
        "    plt.plot(range(1, num_epochs + 1), train_val_metrics['train']['f1_scores'], linewidth=1.0, color='C0', label='Training')\n",
        "    plt.plot(range(1, num_epochs + 1), train_val_metrics['val']['f1_scores'], linewidth=1.0, color='C1', label='Validation', linestyle=':')\n",
        "    plt.axhline(y=test_metrics['f1_score'], color='C2', linewidth=0.5, linestyle='--', label='Test')\n",
        "    plt.xlabel('Epoch')\n",
        "    plt.ylabel('F1-Score')\n",
        "    plt.legend(fontsize=8)\n",
        "    plt.title('F1-Score')\n",
        "\n",
        "    plt.tight_layout()\n",
        "    plt.show()"
      ],
      "metadata": {
        "execution": {
          "iopub.status.busy": "2024-09-05T20:48:45.587Z",
          "iopub.execute_input": "2024-09-05T20:48:45.587416Z",
          "iopub.status.idle": "2024-09-05T20:48:45.606271Z",
          "shell.execute_reply.started": "2024-09-05T20:48:45.587365Z",
          "shell.execute_reply": "2024-09-05T20:48:45.605117Z"
        },
        "trusted": true,
        "id": "jQVHrrNDoR8f"
      },
      "execution_count": null,
      "outputs": []
    },
    {
      "cell_type": "markdown",
      "source": [
        "# 📜 Overview\n",
        "\n",
        "Let's start by getting an overview of the datasets."
      ],
      "metadata": {
        "id": "TgJFCZa4oR8f"
      }
    },
    {
      "cell_type": "code",
      "source": [
        "elliptic_txs_features = pd.read_csv('/kaggle/input/elliptic-data-set/elliptic_bitcoin_dataset/elliptic_txs_features.csv', header=None)\n",
        "elliptic_txs_classes = pd.read_csv('/kaggle/input/elliptic-data-set/elliptic_bitcoin_dataset/elliptic_txs_classes.csv')\n",
        "elliptic_txs_edgelist = pd.read_csv('/kaggle/input/elliptic-data-set/elliptic_bitcoin_dataset/elliptic_txs_edgelist.csv')\n",
        "\n",
        "elliptic_txs_features.columns = ['txId'] + [f'V{i}' for i in range(1, 167)]\n",
        "\n",
        "print(f\"\"\"Shapes\n",
        "{4*' '}Features : {elliptic_txs_features.shape[0]:8,} (rows)  {elliptic_txs_features.shape[1]:4,} (cols)\n",
        "{4*' '}Classes  : {elliptic_txs_classes.shape[0]:8,} (rows)  {elliptic_txs_classes.shape[1]:4,} (cols)\n",
        "{4*' '}Edgelist : {elliptic_txs_edgelist.shape[0]:8,} (rows)  {elliptic_txs_edgelist.shape[1]:4,} (cols)\n",
        "\"\"\")"
      ],
      "metadata": {
        "execution": {
          "iopub.status.busy": "2024-09-05T20:48:45.610599Z",
          "iopub.execute_input": "2024-09-05T20:48:45.61098Z",
          "iopub.status.idle": "2024-09-05T20:49:01.452369Z",
          "shell.execute_reply.started": "2024-09-05T20:48:45.610942Z",
          "shell.execute_reply": "2024-09-05T20:49:01.451324Z"
        },
        "trusted": true,
        "id": "p40F0TYFoR8f"
      },
      "execution_count": null,
      "outputs": []
    },
    {
      "cell_type": "markdown",
      "source": [
        "__Nodes & Edges__\n",
        "\n",
        "- $|V| = 203,768$ (number of nodes in $G$)\n",
        "- $|E| = 234,355$ (number of edges in $G$)"
      ],
      "metadata": {
        "id": "_U8h7kLWoR8g"
      }
    },
    {
      "cell_type": "code",
      "source": [
        "elliptic_txs_features.head(3)  # Dataset containing the node features."
      ],
      "metadata": {
        "execution": {
          "iopub.status.busy": "2024-09-05T20:49:01.453727Z",
          "iopub.execute_input": "2024-09-05T20:49:01.454152Z",
          "iopub.status.idle": "2024-09-05T20:49:01.499576Z",
          "shell.execute_reply.started": "2024-09-05T20:49:01.454113Z",
          "shell.execute_reply": "2024-09-05T20:49:01.498495Z"
        },
        "trusted": true,
        "id": "PtuSnNlpoR8g"
      },
      "execution_count": null,
      "outputs": []
    },
    {
      "cell_type": "code",
      "source": [
        "elliptic_txs_classes.head(3)  # Dataset containing the classes of the node."
      ],
      "metadata": {
        "execution": {
          "iopub.status.busy": "2024-09-05T20:49:01.500869Z",
          "iopub.execute_input": "2024-09-05T20:49:01.501208Z",
          "iopub.status.idle": "2024-09-05T20:49:01.511994Z",
          "shell.execute_reply.started": "2024-09-05T20:49:01.501171Z",
          "shell.execute_reply": "2024-09-05T20:49:01.510774Z"
        },
        "trusted": true,
        "id": "LKG37sAsoR8g"
      },
      "execution_count": null,
      "outputs": []
    },
    {
      "cell_type": "code",
      "source": [
        "elliptic_txs_edgelist.head(3)  # Dataset containing the edges."
      ],
      "metadata": {
        "execution": {
          "iopub.status.busy": "2024-09-05T20:49:01.513483Z",
          "iopub.execute_input": "2024-09-05T20:49:01.513893Z",
          "iopub.status.idle": "2024-09-05T20:49:01.524581Z",
          "shell.execute_reply.started": "2024-09-05T20:49:01.513851Z",
          "shell.execute_reply": "2024-09-05T20:49:01.523478Z"
        },
        "trusted": true,
        "id": "-OvH9FDVoR8g"
      },
      "execution_count": null,
      "outputs": []
    },
    {
      "cell_type": "markdown",
      "source": [
        "Let's get an overview on the distribution of the `class`es."
      ],
      "metadata": {
        "id": "xLhEpkKhoR8g"
      }
    },
    {
      "cell_type": "code",
      "source": [
        "elliptic_txs_classes['class_mapped'] = elliptic_txs_classes['class'].replace({'1': 'illicit', '2': 'licit'})\n",
        "\n",
        "percentage_distribution = round(100 * elliptic_txs_classes['class_mapped'].value_counts(normalize=True), 2)\n",
        "class_counts = elliptic_txs_classes['class_mapped'].value_counts()\n",
        "\n",
        "emoji_mapping = {'licit': '✅', 'illicit': '❌', 'unknown': '🤷'}\n",
        "elliptic_txs_classes['emoji'] = elliptic_txs_classes['class_mapped'].map(emoji_mapping)\n",
        "\n",
        "classes_df = pd.DataFrame({\n",
        "    'Class Mapped': elliptic_txs_classes['class_mapped'].unique(),\n",
        "    'Class Raw': elliptic_txs_classes['class'].unique(),\n",
        "    'Counts': class_counts.values,\n",
        "    'Percentage': percentage_distribution.values,\n",
        "    'Emoji': [emoji_mapping[class_label] for class_label in elliptic_txs_classes['class_mapped'].unique()]\n",
        "})\n",
        "classes_df"
      ],
      "metadata": {
        "execution": {
          "iopub.status.busy": "2024-09-05T20:49:01.526013Z",
          "iopub.execute_input": "2024-09-05T20:49:01.526472Z",
          "iopub.status.idle": "2024-09-05T20:49:01.772044Z",
          "shell.execute_reply.started": "2024-09-05T20:49:01.526419Z",
          "shell.execute_reply": "2024-09-05T20:49:01.770834Z"
        },
        "trusted": true,
        "id": "vqLVVfYWoR8g"
      },
      "execution_count": null,
      "outputs": []
    },
    {
      "cell_type": "markdown",
      "source": [
        "- 77.15% of all classes are `unknown`\n",
        "- 20.62% of all classes are `licit` (2)\n",
        "- 2.23% of all classes are `illicit` (1)"
      ],
      "metadata": {
        "id": "nHki2j8BoR8g"
      }
    },
    {
      "cell_type": "code",
      "source": [
        "num_nodes = elliptic_txs_features.shape[0]\n",
        "num_edges = elliptic_txs_edgelist.shape[0]\n",
        "\n",
        "print(f\"Number of nodes: {num_nodes:,}\")\n",
        "print(f\"Number of edges: {num_edges:,}\")"
      ],
      "metadata": {
        "execution": {
          "iopub.status.busy": "2024-09-05T20:49:01.77361Z",
          "iopub.execute_input": "2024-09-05T20:49:01.774061Z",
          "iopub.status.idle": "2024-09-05T20:49:01.780614Z",
          "shell.execute_reply.started": "2024-09-05T20:49:01.774018Z",
          "shell.execute_reply": "2024-09-05T20:49:01.779412Z"
        },
        "trusted": true,
        "id": "u3tgSTUXoR8h"
      },
      "execution_count": null,
      "outputs": []
    },
    {
      "cell_type": "code",
      "source": [
        "# Create graph from the edgelist.\n",
        "G = nx.from_pandas_edgelist(elliptic_txs_edgelist, 'txId1', 'txId2')"
      ],
      "metadata": {
        "execution": {
          "iopub.status.busy": "2024-09-05T20:49:01.78216Z",
          "iopub.execute_input": "2024-09-05T20:49:01.782642Z",
          "iopub.status.idle": "2024-09-05T20:49:03.097215Z",
          "shell.execute_reply.started": "2024-09-05T20:49:01.782588Z",
          "shell.execute_reply": "2024-09-05T20:49:03.096104Z"
        },
        "trusted": true,
        "id": "Y07FnTS4oR8h"
      },
      "execution_count": null,
      "outputs": []
    },
    {
      "cell_type": "code",
      "source": [
        "# Sampling for easier analysis...for now.\n",
        "classes_sampled = elliptic_txs_classes.groupby('class_mapped').sample(frac=0.05, random_state=RANDOM_STATE)\n",
        "txIds_sampled = classes_sampled['txId']\n",
        "\n",
        "# Filter elliptic_txs_edgelist based on the sampled txIds\n",
        "edgelist_sampled = elliptic_txs_edgelist[\n",
        "    elliptic_txs_edgelist['txId1'].isin(txIds_sampled) | elliptic_txs_edgelist['txId2'].isin(txIds_sampled)\n",
        "]\n",
        "\n",
        "# Filter elliptic_txs_features based on the sampled txIds\n",
        "features_sampled = elliptic_txs_features[elliptic_txs_features['txId'].isin(txIds_sampled)]\n",
        "\n",
        "print(f\"Sampled Classes:\\n{classes_sampled['class_mapped'].value_counts()}\\n\")\n",
        "print(f\"Sampled Edgelist: {edgelist_sampled.shape[0]:,}\")\n",
        "print(f\"Sampled Features: {features_sampled.shape[0]:,}\")"
      ],
      "metadata": {
        "execution": {
          "iopub.status.busy": "2024-09-05T20:49:03.098619Z",
          "iopub.execute_input": "2024-09-05T20:49:03.099051Z",
          "iopub.status.idle": "2024-09-05T20:49:03.199635Z",
          "shell.execute_reply.started": "2024-09-05T20:49:03.099002Z",
          "shell.execute_reply": "2024-09-05T20:49:03.19855Z"
        },
        "trusted": true,
        "id": "TR5AONwgoR8h"
      },
      "execution_count": null,
      "outputs": []
    },
    {
      "cell_type": "markdown",
      "source": [
        "# 🔍 Exploratory Data Analysis (EDA)"
      ],
      "metadata": {
        "id": "JB8tKCSkoR8h"
      }
    },
    {
      "cell_type": "code",
      "source": [
        "plt.figure(figsize=(4, 4))\n",
        "sizes = [num_nodes, num_edges]\n",
        "labels = ['Nodes', 'Edges']\n",
        "colors = ['skyblue', 'salmon']\n",
        "plt.pie(sizes, labels=labels, colors=colors, autopct='%1.1f%%', startangle=140,\n",
        "        wedgeprops = {'edgecolor' : 'black',\n",
        "                      'linewidth': 2,\n",
        "                      'antialiased': True})\n",
        "plt.title('Basic Graph Properties')\n",
        "plt.axis('equal')\n",
        "plt.show()"
      ],
      "metadata": {
        "execution": {
          "iopub.status.busy": "2024-09-05T20:49:03.201139Z",
          "iopub.execute_input": "2024-09-05T20:49:03.201634Z",
          "iopub.status.idle": "2024-09-05T20:49:03.387806Z",
          "shell.execute_reply.started": "2024-09-05T20:49:03.201584Z",
          "shell.execute_reply": "2024-09-05T20:49:03.386238Z"
        },
        "trusted": true,
        "id": "oDH7UKLuoR8h"
      },
      "execution_count": null,
      "outputs": []
    },
    {
      "cell_type": "code",
      "source": [
        "# --- Degree Distribution (Log-Log Scale) ---\n",
        "plt.figure(figsize=(6, 4))\n",
        "degrees = [G.degree(n) for n in G.nodes()]\n",
        "plt.hist(degrees, bins=50, log=True, color='skyblue', edgecolor='black', linewidth=2.0)\n",
        "plt.xscale('log')\n",
        "plt.yscale('log')\n",
        "plt.title('Degree Distribution (Log-Log Scale)')\n",
        "plt.xlabel('Degree (log)')\n",
        "plt.ylabel('Number of Nodes (log)')\n",
        "plt.show()"
      ],
      "metadata": {
        "execution": {
          "iopub.status.busy": "2024-09-05T20:49:03.393055Z",
          "iopub.execute_input": "2024-09-05T20:49:03.397502Z",
          "iopub.status.idle": "2024-09-05T20:49:05.740259Z",
          "shell.execute_reply.started": "2024-09-05T20:49:03.397429Z",
          "shell.execute_reply": "2024-09-05T20:49:05.739153Z"
        },
        "trusted": true,
        "id": "faHXzAluoR8h"
      },
      "execution_count": null,
      "outputs": []
    },
    {
      "cell_type": "markdown",
      "source": [
        "## 📊 Basic Statistics"
      ],
      "metadata": {
        "id": "kfd_FaMtoR8h"
      }
    },
    {
      "cell_type": "code",
      "source": [
        "# Number of nodes and edges\n",
        "num_nodes = features_sampled.shape[0]\n",
        "num_edges = edgelist_sampled.shape[0]\n",
        "\n",
        "print(f\"Number of nodes: {num_nodes:,}\")\n",
        "print(f\"Number of edges: {num_edges:,}\")\n",
        "\n",
        "# Distribution of node degrees\n",
        "plt.figure(figsize=(7, 4))\n",
        "\n",
        "node_degrees = edgelist_sampled['txId1'].value_counts() + edgelist_sampled['txId2'].value_counts()\n",
        "node_degrees.hist(bins=50, edgecolor='black')\n",
        "plt.title('Distribution of Node Degrees')\n",
        "plt.xlabel('Degree')\n",
        "plt.ylabel('Number of Nodes')\n",
        "plt.grid(False)\n",
        "plt.show()"
      ],
      "metadata": {
        "execution": {
          "iopub.status.busy": "2024-09-05T20:49:05.741909Z",
          "iopub.execute_input": "2024-09-05T20:49:05.742375Z",
          "iopub.status.idle": "2024-09-05T20:49:06.145632Z",
          "shell.execute_reply.started": "2024-09-05T20:49:05.742324Z",
          "shell.execute_reply": "2024-09-05T20:49:06.144546Z"
        },
        "trusted": true,
        "id": "BNM4B7TaoR8h"
      },
      "execution_count": null,
      "outputs": []
    },
    {
      "cell_type": "markdown",
      "source": [
        "## 🔗 Graph Connectivity"
      ],
      "metadata": {
        "id": "act8HsfVoR8i"
      }
    },
    {
      "cell_type": "code",
      "source": [
        "# Create graph from the edgelist.\n",
        "G = nx.from_pandas_edgelist(edgelist_sampled, 'txId1', 'txId2')"
      ],
      "metadata": {
        "execution": {
          "iopub.status.busy": "2024-09-05T20:49:06.146928Z",
          "iopub.execute_input": "2024-09-05T20:49:06.147309Z",
          "iopub.status.idle": "2024-09-05T20:49:06.234252Z",
          "shell.execute_reply.started": "2024-09-05T20:49:06.147247Z",
          "shell.execute_reply": "2024-09-05T20:49:06.233063Z"
        },
        "trusted": true,
        "id": "79Dbg9mRoR8i"
      },
      "execution_count": null,
      "outputs": []
    },
    {
      "cell_type": "code",
      "source": [
        "# --- Connected components ---\n",
        "num_connected_components = nx.number_connected_components(G)\n",
        "print(f\"Number of connected components: {num_connected_components}\")\n",
        "\n",
        "# --- Giant component analysis ---\n",
        "giant_component = max(nx.connected_components(G), key=len)\n",
        "G_giant = G.subgraph(giant_component)\n",
        "\n",
        "print(f\"Giant component - Number of nodes: {G_giant.number_of_nodes():,}\")\n",
        "print(f\"Giant component - Number of edges: {G_giant.number_of_edges():,}\")\n",
        "\n",
        "\n",
        "# --------------------------------------------------------- #\n",
        "# Shortest paths length distribution in the giant component #\n",
        "# --------------------------------------------------------- #\n",
        "path_lengths = dict(nx.shortest_path_length(G_giant))\n",
        "path_lengths_values = [length for target_lengths in path_lengths.values() for length in target_lengths.values()]\n",
        "\n",
        "plt.figure(figsize=(7, 4))\n",
        "plt.hist(path_lengths_values, bins=50, edgecolor='black')\n",
        "plt.title('Shortest Path Length Distribution in Giant Component')\n",
        "plt.xlabel('Path Length')\n",
        "plt.ylabel('Frequency')\n",
        "plt.show()"
      ],
      "metadata": {
        "execution": {
          "iopub.status.busy": "2024-09-05T20:49:06.235552Z",
          "iopub.execute_input": "2024-09-05T20:49:06.235879Z",
          "iopub.status.idle": "2024-09-05T20:49:08.625635Z",
          "shell.execute_reply.started": "2024-09-05T20:49:06.235844Z",
          "shell.execute_reply": "2024-09-05T20:49:08.624663Z"
        },
        "trusted": true,
        "id": "ewEKOfGgoR8i"
      },
      "execution_count": null,
      "outputs": []
    },
    {
      "cell_type": "markdown",
      "source": [
        "## 🎯 Node Centrality Measures\n",
        "\n",
        "In this section we are going to investigate node centrality measures. Such measures are used in graph theory to identify the most important or influential nodes within a network. We will focus on the following three centrality measures:\n",
        "\n",
        "___🔢 Degree Centrality___\n",
        "\n",
        "**Definition:**\n",
        "Degree centrality measures the number of direct connections a node has in a network. It is defined as the number of edges connected to a node.\n",
        "\n",
        "**Mathematical Function:**\n",
        "$$\n",
        "\\begin{aligned}\n",
        "& C_D(v) = \\frac{\\text{deg}(v)}{N - 1} \\\\\n",
        "& \\text{Where:} \\\\\n",
        "& \\qquad \\text{deg}(v) \\; \\text{is the degree of node} \\; (v) \\; \\text{(i.e., the number of edges connected to the node).} \\\\\n",
        "& \\qquad N \\; \\text{is the total number of nodes in the network.}\n",
        "\\end{aligned}\n",
        "$$\n",
        "\n",
        "**Interpretation:**\n",
        "A node with a high degree centrality is highly connected and may play a crucial role in the network by having direct interactions with many other nodes.\n",
        "\n",
        "___🔀 Betweenness Centrality___\n",
        "\n",
        "**Definition:**\n",
        "Betweenness centrality measures the extent to which a node lies on the shortest paths between other nodes in the network.\n",
        "\n",
        "**Mathematical Function:**\n",
        "$$\n",
        "\\begin{aligned}\n",
        "& C_B(v) = \\sum_{s \\neq v \\neq t} \\frac{\\sigma_{st}(v)}{\\sigma_{st}} \\\\\n",
        "& \\text{Where:} \\\\\n",
        "& \\qquad \\sigma_{st} \\; \\text{is the total number of shortest paths between nodes} \\; (s) \\; \\text{and} \\; (t). \\\\\n",
        "& \\qquad \\sigma_{st}(v) \\; \\text{is the number of those paths that pass through node} \\; (v).\n",
        "\\end{aligned}\n",
        "$$\n",
        "\n",
        "**Interpretation:**\n",
        "A node with high betweenness centrality has significant control over the flow of information or resources in the network because it connects different parts of the network. It often indicates a node that is critical for communication.\n",
        "\n",
        "___🌐 Closeness Centrality___\n",
        "\n",
        "**Definition:**\n",
        "Closeness centrality measures how close a node is to all other nodes in the network. It is the reciprocal of the sum of the shortest path distances from the node to all other nodes in the network.\n",
        "\n",
        "**Mathematical Function:**\n",
        "$$\n",
        "\\begin{aligned}\n",
        "& C_C(v) = \\frac{N-1}{\\sum_{t \\neq v} d(v, t)} \\\\\n",
        "& \\text{Where:} \\\\\n",
        "& \\qquad d(v, t) \\; \\text{is the shortest path distance between node} \\; (v) \\; \\text{and node} \\; (t). \\\\\n",
        "& \\qquad N \\; \\text{is the total number of nodes in the network.}\n",
        "\\end{aligned}\n",
        "$$\n",
        "\n",
        "**Interpretation:**\n",
        "A node with high closeness centrality can quickly interact with all other nodes and can be an effective spreader of information or influence throughout the network.\n",
        "\n",
        "---\n"
      ],
      "metadata": {
        "id": "w5OZ4qlvoR8i"
      }
    },
    {
      "cell_type": "code",
      "source": [
        "# Degree centrality.\n",
        "degree_centrality = nx.degree_centrality(G_giant)\n",
        "top_degree_centrality = sorted(degree_centrality.items(), key=lambda x: x[1], reverse=True)[:10]\n",
        "df_top_degree_centrality = pd.DataFrame(top_degree_centrality, columns=['Node', 'Degree Centrality'])\n",
        "\n",
        "print(\"Top 10 nodes by degree centrality:\")\n",
        "print(\"==================================\")\n",
        "print(df_top_degree_centrality)\n",
        "\n",
        "top_nodes_by_ = df_top_degree_centrality['Node'].tolist()\n",
        "subgraph = G_giant.subgraph(top_nodes_by_)\n",
        "node_color = [degree_centrality[node] for node in subgraph.nodes()]\n",
        "norm = mpl.colors.Normalize(vmin=min(node_color), vmax=max(node_color))\n",
        "node_color_normalized = [norm(value) for value in node_color]\n",
        "cmap = plt.cm.cool\n",
        "\n",
        "# -------- #\n",
        "# Plotting #\n",
        "# -------- #\n",
        "plt.figure(figsize=(7, 3))\n",
        "\n",
        "nx.draw(subgraph, with_labels=True, node_size=300, edge_color='gray', font_size=8,\n",
        "        node_color=node_color_normalized, cmap=cmap)\n",
        "plt.title('Top 10 Degree Centrality Nodes')\n",
        "plt.colorbar(mpl.cm.ScalarMappable(norm=norm, cmap=cmap), label='Degree Centrality')\n",
        "plt.show()"
      ],
      "metadata": {
        "execution": {
          "iopub.status.busy": "2024-09-05T20:49:08.626771Z",
          "iopub.execute_input": "2024-09-05T20:49:08.627074Z",
          "iopub.status.idle": "2024-09-05T20:49:09.040049Z",
          "shell.execute_reply.started": "2024-09-05T20:49:08.627039Z",
          "shell.execute_reply": "2024-09-05T20:49:09.039014Z"
        },
        "trusted": true,
        "id": "yIuUm6GxoR8i"
      },
      "execution_count": null,
      "outputs": []
    },
    {
      "cell_type": "code",
      "source": [
        "# Betweenness centrality.\n",
        "betweenness_centrality = nx.betweenness_centrality(G_giant)\n",
        "top_betweenness_centrality = sorted(betweenness_centrality.items(), key=lambda x: x[1], reverse=True)[:10]\n",
        "df_top_betweenness_centrality = pd.DataFrame(top_betweenness_centrality, columns=['Node', 'Betweenness Centrality'])\n",
        "\n",
        "print(\"Top 10 nodes by betweenness centrality:\")\n",
        "print(\"=======================================\")\n",
        "print(df_top_betweenness_centrality)\n",
        "\n",
        "top_nodes_by_ = df_top_betweenness_centrality['Node'].tolist()\n",
        "subgraph = G_giant.subgraph(top_nodes_by_)\n",
        "node_color = [betweenness_centrality[node] for node in subgraph.nodes()]\n",
        "norm = mpl.colors.Normalize(vmin=min(node_color), vmax=max(node_color))\n",
        "node_color_normalized = [norm(value) for value in node_color]\n",
        "cmap = plt.cm.cool\n",
        "\n",
        "# -------- #\n",
        "# Plotting #\n",
        "# -------- #\n",
        "plt.figure(figsize=(7, 3))\n",
        "\n",
        "nx.draw(subgraph, with_labels=True, node_size=300, edge_color='gray', font_size=8,\n",
        "        node_color=node_color_normalized, cmap=cmap)\n",
        "plt.title('Top 10 Betweenness Centrality Nodes')\n",
        "plt.colorbar(mpl.cm.ScalarMappable(norm=norm, cmap=cmap), label='Betweenness Centrality')\n",
        "plt.show()"
      ],
      "metadata": {
        "execution": {
          "iopub.status.busy": "2024-09-05T20:49:09.041483Z",
          "iopub.execute_input": "2024-09-05T20:49:09.041936Z",
          "iopub.status.idle": "2024-09-05T20:49:11.305634Z",
          "shell.execute_reply.started": "2024-09-05T20:49:09.041887Z",
          "shell.execute_reply": "2024-09-05T20:49:11.304606Z"
        },
        "trusted": true,
        "id": "rBEV4In8oR8i"
      },
      "execution_count": null,
      "outputs": []
    },
    {
      "cell_type": "code",
      "source": [
        "# Closeness centrality.\n",
        "closeness_centrality = nx.closeness_centrality(G_giant)\n",
        "top_closeness_centrality = sorted(closeness_centrality.items(), key=lambda x: x[1], reverse=True)[:10]\n",
        "df_top_closeness_centrality = pd.DataFrame(top_closeness_centrality, columns=['Node', 'Closeness Centrality'])\n",
        "\n",
        "print(\"Top 10 nodes by closeness centrality:\")\n",
        "print(\"=====================================\")\n",
        "print(df_top_closeness_centrality)\n",
        "\n",
        "top_nodes_by_closeness = df_top_closeness_centrality['Node'].tolist()\n",
        "subgraph = G_giant.subgraph(top_nodes_by_closeness)\n",
        "node_color = [closeness_centrality[node] for node in subgraph.nodes()]\n",
        "norm = mpl.colors.Normalize(vmin=min(node_color), vmax=max(node_color))\n",
        "node_color_normalized = [norm(value) for value in node_color]\n",
        "cmap = plt.cm.cool\n",
        "\n",
        "# -------- #\n",
        "# Plotting #\n",
        "# -------- #\n",
        "plt.figure(figsize=(7, 3))\n",
        "\n",
        "nx.draw(subgraph, with_labels=True, node_size=300, edge_color='gray', font_size=8,\n",
        "        node_color=node_color_normalized, cmap=cmap)\n",
        "plt.title('Top 10 Closeness Centrality Nodes')\n",
        "plt.colorbar(mpl.cm.ScalarMappable(norm=norm, cmap=cmap), label='Closeness Centrality')\n",
        "plt.show()"
      ],
      "metadata": {
        "execution": {
          "iopub.status.busy": "2024-09-05T20:49:11.307356Z",
          "iopub.execute_input": "2024-09-05T20:49:11.30812Z",
          "iopub.status.idle": "2024-09-05T20:49:12.890784Z",
          "shell.execute_reply.started": "2024-09-05T20:49:11.308065Z",
          "shell.execute_reply": "2024-09-05T20:49:12.889854Z"
        },
        "trusted": true,
        "id": "eUHmRiDToR8j"
      },
      "execution_count": null,
      "outputs": []
    },
    {
      "cell_type": "markdown",
      "source": [
        "## 🖼️ Graph Visualization"
      ],
      "metadata": {
        "id": "jYBtZSLSoR8j"
      }
    },
    {
      "cell_type": "code",
      "source": [
        "# --------- #\n",
        "# Preparing #\n",
        "# --------- #\n",
        "\n",
        "# Identify nodes that are top in each centrality measure and their combinations.\n",
        "top_nodes_degree = set([node for node, _ in top_degree_centrality])\n",
        "top_nodes_betweenness = set([node for node, _ in top_betweenness_centrality])\n",
        "top_nodes_closeness = set([node for node, _ in top_closeness_centrality])\n",
        "\n",
        "top_nodes_both = top_nodes_degree.intersection(top_nodes_betweenness)\n",
        "top_nodes_closeness_and_degree = top_nodes_closeness.intersection(top_nodes_degree)\n",
        "top_nodes_closeness_and_betweenness = top_nodes_closeness.intersection(top_nodes_betweenness)\n",
        "top_nodes_all_three = top_nodes_closeness.intersection(top_nodes_degree).intersection(top_nodes_betweenness)\n",
        "\n",
        "# Assign colors and shapes based on centrality measures.\n",
        "node_color = []\n",
        "node_shape = []\n",
        "\n",
        "for node in G_giant.nodes():\n",
        "    if node in top_nodes_all_three:\n",
        "        node_color.append('purple')\n",
        "        node_shape.append('D')\n",
        "    elif node in top_nodes_closeness_and_degree:\n",
        "        node_color.append('orange')\n",
        "        node_shape.append('h')\n",
        "    elif node in top_nodes_closeness_and_betweenness:\n",
        "        node_color.append('cyan')\n",
        "        node_shape.append('v')\n",
        "    elif node in top_nodes_both:\n",
        "        node_color.append('green')\n",
        "        node_shape.append('s')\n",
        "    elif node in top_nodes_degree:\n",
        "        node_color.append('red')\n",
        "        node_shape.append('o')\n",
        "    elif node in top_nodes_betweenness:\n",
        "        node_color.append('magenta')\n",
        "        node_shape.append('^')\n",
        "    elif node in top_nodes_closeness:\n",
        "        node_color.append('yellow')\n",
        "        node_shape.append('h')\n",
        "    else:\n",
        "        node_color.append('slategrey')\n",
        "        node_shape.append('o')\n",
        "\n",
        "# -------- #\n",
        "# Plotting #\n",
        "# -------- #\n",
        "\n",
        "plt.figure(figsize=(15, 11))\n",
        "\n",
        "pos = nx.spring_layout(G_giant)\n",
        "# Draw all nodes first.\n",
        "nx.draw_networkx_nodes(G_giant, pos, node_color='slategrey', node_size=10)\n",
        "\n",
        "# Draw nodes with specific centrality measures.\n",
        "nx.draw_networkx_nodes(G_giant, pos, nodelist=list(top_nodes_degree - top_nodes_both - top_nodes_closeness_and_degree),\n",
        "                       node_color='red', node_size=50, node_shape='o',\n",
        "                       label='Degree Centrality')\n",
        "nx.draw_networkx_nodes(G_giant, pos, nodelist=list(top_nodes_betweenness - top_nodes_both - top_nodes_closeness_and_betweenness),\n",
        "                       node_color='magenta', node_size=50, node_shape='^',\n",
        "                       label='Betweenness Centrality')\n",
        "nx.draw_networkx_nodes(G_giant, pos, nodelist=list(top_nodes_closeness - top_nodes_closeness_and_degree - top_nodes_closeness_and_betweenness),\n",
        "                       node_color='gold', node_size=50, node_shape='h',\n",
        "                       label='Closeness Centrality')\n",
        "nx.draw_networkx_nodes(G_giant, pos, nodelist=list(top_nodes_both),\n",
        "                       node_color='green', node_size=80, node_shape='s',\n",
        "                       label='Degree & Betweenness Centrality')\n",
        "nx.draw_networkx_nodes(G_giant, pos, nodelist=list(top_nodes_closeness_and_degree),\n",
        "                       node_color='orange', node_size=70, node_shape='h',\n",
        "                       label='Degree & Closeness Centrality')\n",
        "nx.draw_networkx_nodes(G_giant, pos, nodelist=list(top_nodes_closeness_and_betweenness),\n",
        "                       node_color='cyan', node_size=70, node_shape='v',\n",
        "                       label='Betweenness & Closeness Centrality')\n",
        "nx.draw_networkx_nodes(G_giant, pos, nodelist=list(top_nodes_all_three),\n",
        "                       node_color='purple', node_size=100, node_shape='D',\n",
        "                       label='Closeness, Degree, & Betweenness Centrality')\n",
        "\n",
        "# Draw edges.\n",
        "nx.draw_networkx_edges(G_giant, pos, width=0.8, edge_color='gray', alpha=0.5)\n",
        "\n",
        "plt.axis('off')\n",
        "plt.title('Nodes Highlighted by Degree, Betweenness, and Closeness Centrality')\n",
        "plt.legend(scatterpoints=1)\n",
        "plt.show()"
      ],
      "metadata": {
        "execution": {
          "iopub.status.busy": "2024-09-05T20:49:12.892202Z",
          "iopub.execute_input": "2024-09-05T20:49:12.892537Z",
          "iopub.status.idle": "2024-09-05T20:49:13.892405Z",
          "shell.execute_reply.started": "2024-09-05T20:49:12.892503Z",
          "shell.execute_reply": "2024-09-05T20:49:13.891327Z"
        },
        "trusted": true,
        "id": "xeXMUi3ioR8j"
      },
      "execution_count": null,
      "outputs": []
    },
    {
      "cell_type": "markdown",
      "source": [
        "## 📈 Class-specific Analysis"
      ],
      "metadata": {
        "id": "kia8vgOCoR8s"
      }
    },
    {
      "cell_type": "code",
      "source": [
        "# Class-based subgraphs.\n",
        "illicit_nodes = classes_sampled[classes_sampled['class_mapped'] == 'illicit']['txId']\n",
        "licit_nodes = classes_sampled[classes_sampled['class_mapped'] == 'licit']['txId']\n",
        "\n",
        "G_illicit = G.subgraph(illicit_nodes)\n",
        "G_licit = G.subgraph(licit_nodes)"
      ],
      "metadata": {
        "execution": {
          "iopub.status.busy": "2024-09-05T20:49:13.893846Z",
          "iopub.execute_input": "2024-09-05T20:49:13.894176Z",
          "iopub.status.idle": "2024-09-05T20:49:13.907696Z",
          "shell.execute_reply.started": "2024-09-05T20:49:13.894141Z",
          "shell.execute_reply": "2024-09-05T20:49:13.906742Z"
        },
        "trusted": true,
        "id": "v3Kx9ctboR8s"
      },
      "execution_count": null,
      "outputs": []
    },
    {
      "cell_type": "code",
      "source": [
        "classes_df"
      ],
      "metadata": {
        "execution": {
          "iopub.status.busy": "2024-09-05T20:49:13.916347Z",
          "iopub.execute_input": "2024-09-05T20:49:13.916659Z",
          "iopub.status.idle": "2024-09-05T20:49:13.929258Z",
          "shell.execute_reply.started": "2024-09-05T20:49:13.916625Z",
          "shell.execute_reply": "2024-09-05T20:49:13.928074Z"
        },
        "trusted": true,
        "id": "KVHY0CA3oR8t"
      },
      "execution_count": null,
      "outputs": []
    },
    {
      "cell_type": "code",
      "source": [
        "plt.figure(figsize=(12, 6))\n",
        "\n",
        "plt.subplot(1, 2, 1)\n",
        "nx.draw(G_illicit, with_labels=False, node_size=10, node_color='indianred', edge_color='black')\n",
        "plt.title('Illicit Transactions Subgraph')\n",
        "\n",
        "plt.subplot(1, 2, 2)\n",
        "nx.draw(G_licit, with_labels=False, node_size=10, node_color='forestgreen', edge_color='black')\n",
        "plt.title('Licit Transactions Subgraph')\n",
        "\n",
        "plt.show()"
      ],
      "metadata": {
        "execution": {
          "iopub.status.busy": "2024-09-05T20:49:13.930296Z",
          "iopub.execute_input": "2024-09-05T20:49:13.930623Z",
          "iopub.status.idle": "2024-09-05T20:49:38.024014Z",
          "shell.execute_reply.started": "2024-09-05T20:49:13.930591Z",
          "shell.execute_reply": "2024-09-05T20:49:38.022959Z"
        },
        "trusted": true,
        "id": "mVZV89DKoR8t"
      },
      "execution_count": null,
      "outputs": []
    },
    {
      "cell_type": "markdown",
      "source": [
        "__❌ Illicit Transactions Graph__\n",
        "- Shows a fairly sparse distribution of nodes, with a ring-like pattern.\n",
        "- Most nodes are on the periphery, and a few nodes are concentrated in the center.\n",
        "- Suggests that the __illicit transactions may be less interconnected__, with a __few central nodes potentially acting as hubs__ or key points in the network.\n",
        "\n",
        "__✅ Licit Transactions Graph__\n",
        "- The higher density of nodes suggests a more complex network with more transactions or interactions between entities.\n",
        "- Could imply a more established or legitimate network.\n",
        "- Suggests that licit transactions may involve more interconnected entities, with many nodes being closely related or interacting more frequently."
      ],
      "metadata": {
        "id": "2mA45zWqoR8z"
      }
    },
    {
      "cell_type": "markdown",
      "source": [
        "# 👥 Community Detection\n",
        "\n",
        "The goal of community detection is to identify clusters or communities within the graph where nodes are more densely connected internally than with the rest of the graph."
      ],
      "metadata": {
        "id": "-56r0OZwoR8z"
      }
    },
    {
      "cell_type": "code",
      "source": [
        "# Compute best partition.\n",
        "partition = community_louvain.best_partition(G_giant)\n",
        "\n",
        "# Draw graph.\n",
        "plt.figure(figsize=(10, 8))\n",
        "\n",
        "pos = nx.spring_layout(G_giant)\n",
        "cmap = plt.get_cmap('viridis')\n",
        "nx.draw_networkx_nodes(G_giant, pos, node_color=list(partition.values()), node_size=8, cmap=cmap)\n",
        "nx.draw_networkx_edges(G_giant, pos, alpha=0.5, edge_color='grey')\n",
        "plt.axis('off')\n",
        "\n",
        "plt.show()"
      ],
      "metadata": {
        "execution": {
          "iopub.status.busy": "2024-09-05T20:49:38.027473Z",
          "iopub.execute_input": "2024-09-05T20:49:38.027828Z",
          "iopub.status.idle": "2024-09-05T20:49:38.725763Z",
          "shell.execute_reply.started": "2024-09-05T20:49:38.02779Z",
          "shell.execute_reply": "2024-09-05T20:49:38.724641Z"
        },
        "trusted": true,
        "id": "R1Nehrn3oR8z"
      },
      "execution_count": null,
      "outputs": []
    },
    {
      "cell_type": "markdown",
      "source": [
        "# 🧠 Graph Neural Networks\n",
        "\n",
        "Graph Neural Networks (GNNs) are a deep learning technique specifically designed for graph data, useful for tasks like node classification, graph classification, or link prediction. In our case, for now, we will perform ___node prediction___."
      ],
      "metadata": {
        "id": "SAtiYeduoR8z"
      }
    },
    {
      "cell_type": "code",
      "source": [
        "device = torch.device('cuda' if torch.cuda.is_available() else 'cpu')"
      ],
      "metadata": {
        "execution": {
          "iopub.status.busy": "2024-09-05T20:49:38.727056Z",
          "iopub.execute_input": "2024-09-05T20:49:38.727487Z",
          "iopub.status.idle": "2024-09-05T20:49:38.732758Z",
          "shell.execute_reply.started": "2024-09-05T20:49:38.727439Z",
          "shell.execute_reply": "2024-09-05T20:49:38.731707Z"
        },
        "trusted": true,
        "id": "G5b3Bx7hoR8z"
      },
      "execution_count": null,
      "outputs": []
    },
    {
      "cell_type": "code",
      "source": [
        "metrics_per_gnn = {\n",
        "    'gcn': {\n",
        "        'val': {\n",
        "            'precisions': [],\n",
        "            'probas': [],\n",
        "        },\n",
        "        'test': {\n",
        "            'licit': {\n",
        "                'probas': []\n",
        "            },\n",
        "            'illicit': {\n",
        "                'probas': []\n",
        "            },\n",
        "        }\n",
        "    },\n",
        "    'gat': {\n",
        "        'val': {\n",
        "            'precisions': [],\n",
        "            'probas': [],\n",
        "        },\n",
        "        'test': {\n",
        "            'licit': {\n",
        "                'probas': []\n",
        "            },\n",
        "            'illicit': {\n",
        "                'probas': []\n",
        "            },\n",
        "        }\n",
        "    },\n",
        "    'gin': {\n",
        "        'val': {\n",
        "            'precisions': [],\n",
        "            'probas': [],\n",
        "        },\n",
        "        'test': {\n",
        "            'licit': {\n",
        "                'probas': []\n",
        "            },\n",
        "            'illicit': {\n",
        "                'probas': []\n",
        "            },\n",
        "        }\n",
        "    }\n",
        "}"
      ],
      "metadata": {
        "execution": {
          "iopub.status.busy": "2024-09-05T20:49:38.734325Z",
          "iopub.execute_input": "2024-09-05T20:49:38.735252Z",
          "iopub.status.idle": "2024-09-05T20:49:38.743455Z",
          "shell.execute_reply.started": "2024-09-05T20:49:38.735172Z",
          "shell.execute_reply": "2024-09-05T20:49:38.742433Z"
        },
        "trusted": true,
        "id": "pPOUjKUioR8z"
      },
      "execution_count": null,
      "outputs": []
    },
    {
      "cell_type": "markdown",
      "source": [
        "## 🛠️ Pre-Processing"
      ],
      "metadata": {
        "id": "cW1q5SD3oR8z"
      }
    },
    {
      "cell_type": "code",
      "source": [
        "num_edges = elliptic_txs_edgelist.shape[0]\n",
        "num_nodes = elliptic_txs_features.shape[0]\n",
        "\n",
        "print(f'Number of edges in the graph: {num_edges:8,}')\n",
        "print(f'Number of nodes in the graph: {num_nodes:8,}')"
      ],
      "metadata": {
        "execution": {
          "iopub.status.busy": "2024-09-05T20:49:38.744798Z",
          "iopub.execute_input": "2024-09-05T20:49:38.74547Z",
          "iopub.status.idle": "2024-09-05T20:49:38.752496Z",
          "shell.execute_reply.started": "2024-09-05T20:49:38.745421Z",
          "shell.execute_reply": "2024-09-05T20:49:38.75155Z"
        },
        "trusted": true,
        "id": "Yh-yrNNEoR80"
      },
      "execution_count": null,
      "outputs": []
    },
    {
      "cell_type": "code",
      "source": [
        "# --------------------------------------------------------- #\n",
        "# Create mapping with txId as key and actual index as value #\n",
        "# --------------------------------------------------------- #\n",
        "\n",
        "tx_id_mapping = {tx_id: idx for idx, tx_id in enumerate(elliptic_txs_features['txId'])}\n",
        "\n",
        "edges_with_features = elliptic_txs_edgelist[elliptic_txs_edgelist['txId1'].isin(list(tx_id_mapping.keys()))\\\n",
        "                                          & elliptic_txs_edgelist['txId2'].isin(list(tx_id_mapping.keys()))]\n",
        "\n",
        "edges_with_features['Id1'] = edges_with_features['txId1'].map(tx_id_mapping)\n",
        "edges_with_features['Id2'] = edges_with_features['txId2'].map(tx_id_mapping)\n",
        "\n",
        "edges_with_features"
      ],
      "metadata": {
        "execution": {
          "iopub.status.busy": "2024-09-05T20:49:38.753682Z",
          "iopub.execute_input": "2024-09-05T20:49:38.754006Z",
          "iopub.status.idle": "2024-09-05T20:49:39.419486Z",
          "shell.execute_reply.started": "2024-09-05T20:49:38.753972Z",
          "shell.execute_reply": "2024-09-05T20:49:39.418327Z"
        },
        "trusted": true,
        "id": "bRJVNuwFoR80"
      },
      "execution_count": null,
      "outputs": []
    },
    {
      "cell_type": "code",
      "source": [
        "edge_index = torch.tensor(edges_with_features[['Id1', 'Id2']].values.T, dtype=torch.long)\n",
        "edge_index"
      ],
      "metadata": {
        "execution": {
          "iopub.status.busy": "2024-09-05T20:49:39.420656Z",
          "iopub.execute_input": "2024-09-05T20:49:39.420969Z",
          "iopub.status.idle": "2024-09-05T20:49:39.487498Z",
          "shell.execute_reply.started": "2024-09-05T20:49:39.420936Z",
          "shell.execute_reply": "2024-09-05T20:49:39.486486Z"
        },
        "trusted": true,
        "id": "nGpoacrGoR80"
      },
      "execution_count": null,
      "outputs": []
    },
    {
      "cell_type": "code",
      "source": [
        "# ------------------------------------- #\n",
        "# Save node features in suitable format #\n",
        "# ------------------------------------- #\n",
        "\n",
        "node_features = torch.tensor(elliptic_txs_features.drop(columns=['txId']).values,\n",
        "                             dtype=torch.float)\n",
        "print(node_features.shape)\n",
        "node_features"
      ],
      "metadata": {
        "execution": {
          "iopub.status.busy": "2024-09-05T20:49:39.488752Z",
          "iopub.execute_input": "2024-09-05T20:49:39.489119Z",
          "iopub.status.idle": "2024-09-05T20:49:39.773113Z",
          "shell.execute_reply.started": "2024-09-05T20:49:39.489078Z",
          "shell.execute_reply": "2024-09-05T20:49:39.772023Z"
        },
        "trusted": true,
        "id": "OKzecRwcoR80"
      },
      "execution_count": null,
      "outputs": []
    },
    {
      "cell_type": "markdown",
      "source": [
        "- 1st dimension tells us about the `# of nodes`\n",
        "- 2nd dimension tells us about the `# of node features`"
      ],
      "metadata": {
        "id": "lYZP_vCJoR80"
      }
    },
    {
      "cell_type": "code",
      "source": [
        "elliptic_txs_classes['class'].value_counts()"
      ],
      "metadata": {
        "execution": {
          "iopub.status.busy": "2024-09-05T20:49:39.774514Z",
          "iopub.execute_input": "2024-09-05T20:49:39.774945Z",
          "iopub.status.idle": "2024-09-05T20:49:39.809832Z",
          "shell.execute_reply.started": "2024-09-05T20:49:39.774895Z",
          "shell.execute_reply": "2024-09-05T20:49:39.808674Z"
        },
        "trusted": true,
        "id": "uLXa4XL0oR80"
      },
      "execution_count": null,
      "outputs": []
    },
    {
      "cell_type": "code",
      "source": [
        "# ------------------------ #\n",
        "# Labelencode target class #\n",
        "# ------------------------ #\n",
        "\n",
        "le = LabelEncoder()\n",
        "class_labels = le.fit_transform(elliptic_txs_classes['class'])\n",
        "node_labels = torch.tensor(class_labels, dtype=torch.long)\n",
        "original_labels = le.inverse_transform(class_labels)\n",
        "\n",
        "print(original_labels)\n",
        "print(class_labels)\n",
        "print(node_labels)"
      ],
      "metadata": {
        "execution": {
          "iopub.status.busy": "2024-09-05T20:49:39.811495Z",
          "iopub.execute_input": "2024-09-05T20:49:39.811938Z",
          "iopub.status.idle": "2024-09-05T20:49:39.901339Z",
          "shell.execute_reply.started": "2024-09-05T20:49:39.811886Z",
          "shell.execute_reply": "2024-09-05T20:49:39.900182Z"
        },
        "trusted": true,
        "id": "-0jHk040oR80"
      },
      "execution_count": null,
      "outputs": []
    },
    {
      "cell_type": "code",
      "source": [
        "print(le.inverse_transform([0])) # illicit\n",
        "print(le.inverse_transform([1])) # licit\n",
        "print(le.inverse_transform([2])) # unknown"
      ],
      "metadata": {
        "execution": {
          "iopub.status.busy": "2024-09-05T20:49:39.902918Z",
          "iopub.execute_input": "2024-09-05T20:49:39.903642Z",
          "iopub.status.idle": "2024-09-05T20:49:39.911896Z",
          "shell.execute_reply.started": "2024-09-05T20:49:39.903585Z",
          "shell.execute_reply": "2024-09-05T20:49:39.91068Z"
        },
        "trusted": true,
        "id": "kO5ISo9CoR80"
      },
      "execution_count": null,
      "outputs": []
    },
    {
      "cell_type": "code",
      "source": [
        "# ------------------------------------ #\n",
        "# Create pytorch geometric Data object #\n",
        "# ------------------------------------ #\n",
        "\n",
        "data = Data(x=node_features,\n",
        "            edge_index=edge_index,\n",
        "            y=node_labels)\n",
        "\n",
        "# Move data to GPU.\n",
        "data = data.to(device)"
      ],
      "metadata": {
        "execution": {
          "iopub.status.busy": "2024-09-05T20:49:39.913469Z",
          "iopub.execute_input": "2024-09-05T20:49:39.913958Z",
          "iopub.status.idle": "2024-09-05T20:49:40.156711Z",
          "shell.execute_reply.started": "2024-09-05T20:49:39.913903Z",
          "shell.execute_reply": "2024-09-05T20:49:40.155791Z"
        },
        "trusted": true,
        "id": "cCchpA6_oR80"
      },
      "execution_count": null,
      "outputs": []
    },
    {
      "cell_type": "markdown",
      "source": [
        "Now we have created the [pytorch geometric Data object](https://pytorch-geometric.readthedocs.io/en/latest/generated/torch_geometric.data.Data.html). However, we still have lots of _unknown_ 🤷 in this object which we dont want to train our GNN on. We only want to train on known nodes, thus, those which are either _licit_ ✅ or _illicit_ ❌."
      ],
      "metadata": {
        "id": "uW9_U5hnoR80"
      }
    },
    {
      "cell_type": "code",
      "source": [
        "known_mask   = (data.y == 0) | (data.y == 1)  # Only nodes with known labels licit or illicit\n",
        "unknown_mask = data.y == 2                    # Nodes with unknown labels"
      ],
      "metadata": {
        "execution": {
          "iopub.status.busy": "2024-09-05T20:49:40.158006Z",
          "iopub.execute_input": "2024-09-05T20:49:40.158438Z",
          "iopub.status.idle": "2024-09-05T20:49:40.221192Z",
          "shell.execute_reply.started": "2024-09-05T20:49:40.158389Z",
          "shell.execute_reply": "2024-09-05T20:49:40.220332Z"
        },
        "trusted": true,
        "id": "7C9miP1xoR80"
      },
      "execution_count": null,
      "outputs": []
    },
    {
      "cell_type": "code",
      "source": [
        "# ------------------------------------------------ #\n",
        "# Define size for Training, Validation and Testing #\n",
        "# ------------------------------------------------ #\n",
        "\n",
        "num_known_nodes = known_mask.sum().item()\n",
        "permutations = torch.randperm(num_known_nodes)\n",
        "train_size = int(0.8 * num_known_nodes)\n",
        "val_size = int(0.1 * num_known_nodes)\n",
        "test_size = num_known_nodes - train_size - val_size\n",
        "\n",
        "total = np.sum([train_size, val_size, test_size])\n",
        "\n",
        "print(f\"\"\"Number of observations per split\n",
        "    Training   : {train_size:10,} ({100*train_size/total:0.2f} %)\n",
        "    Validation : {val_size:10,} ({100*val_size/total:0.2f} %)\n",
        "    Testing    : {test_size:10,} ({100*test_size/total:0.2f} %)\n",
        "\"\"\")"
      ],
      "metadata": {
        "execution": {
          "iopub.status.busy": "2024-09-05T20:49:40.222321Z",
          "iopub.execute_input": "2024-09-05T20:49:40.222619Z",
          "iopub.status.idle": "2024-09-05T20:49:40.278125Z",
          "shell.execute_reply.started": "2024-09-05T20:49:40.222585Z",
          "shell.execute_reply": "2024-09-05T20:49:40.277118Z"
        },
        "trusted": true,
        "id": "7_8lN_bsoR80"
      },
      "execution_count": null,
      "outputs": []
    },
    {
      "cell_type": "code",
      "source": [
        "# ----------------------------------------------- #\n",
        "# Create mask for the indices of Train, Val, Test #\n",
        "# ----------------------------------------------- #\n",
        "\n",
        "data.train_mask = torch.zeros(data.num_nodes, dtype=torch.bool)\n",
        "data.val_mask = torch.zeros(data.num_nodes, dtype=torch.bool)\n",
        "data.test_mask = torch.zeros(data.num_nodes, dtype=torch.bool)\n",
        "\n",
        "train_indices = known_mask.nonzero(as_tuple=True)[0][permutations[:train_size]]\n",
        "val_indices = known_mask.nonzero(as_tuple=True)[0][permutations[train_size:train_size + val_size]]\n",
        "test_indices = known_mask.nonzero(as_tuple=True)[0][permutations[train_size + val_size:]]\n",
        "\n",
        "data.train_mask[train_indices] = True\n",
        "data.val_mask[val_indices] = True\n",
        "data.test_mask[test_indices] = True\n",
        "\n",
        "data.train_mask"
      ],
      "metadata": {
        "execution": {
          "iopub.status.busy": "2024-09-05T20:49:40.279441Z",
          "iopub.execute_input": "2024-09-05T20:49:40.279797Z",
          "iopub.status.idle": "2024-09-05T20:49:40.352304Z",
          "shell.execute_reply.started": "2024-09-05T20:49:40.279741Z",
          "shell.execute_reply": "2024-09-05T20:49:40.351206Z"
        },
        "trusted": true,
        "id": "9Kw-p1DEoR81"
      },
      "execution_count": null,
      "outputs": []
    },
    {
      "cell_type": "code",
      "source": [
        "# -------------------------- #\n",
        "# Statistics of the datasets #\n",
        "# -------------------------- #\n",
        "\n",
        "train_licit, train_illicit = (data.y[data.train_mask] == 1).sum().item(), (data.y[data.train_mask] == 0).sum().item()\n",
        "val_licit, val_illicit = (data.y[data.val_mask] == 1).sum().item(), (data.y[data.val_mask] == 0).sum().item()\n",
        "test_licit, test_illicit = (data.y[data.test_mask] == 1).sum().item(), (data.y[data.test_mask] == 0).sum().item()\n",
        "\n",
        "# Calculate total counts.\n",
        "train_total = train_licit + train_illicit\n",
        "val_total = val_licit + val_illicit\n",
        "test_total = test_licit + test_illicit\n",
        "\n",
        "# Calculate percentages.\n",
        "train_licit_pct = (train_licit / train_total) * 100\n",
        "train_illicit_pct = (train_illicit / train_total) * 100\n",
        "val_licit_pct = (val_licit / val_total) * 100\n",
        "val_illicit_pct = (val_illicit / val_total) * 100\n",
        "test_licit_pct = (test_licit / test_total) * 100\n",
        "test_illicit_pct = (test_illicit / test_total) * 100\n",
        "\n",
        "pd.DataFrame({\n",
        "    'Set': ['Training', 'Validation', 'Testing'],\n",
        "    'Total Count': [train_total, val_total, test_total],\n",
        "    'Licit': [train_licit, val_licit, test_licit],\n",
        "    'Licit (%)': [train_licit_pct, val_licit_pct, test_licit_pct],\n",
        "    'Illicit': [train_illicit, val_illicit, test_illicit],\n",
        "    'Illicit (%)': [train_illicit_pct, val_illicit_pct, test_illicit_pct]\n",
        "})"
      ],
      "metadata": {
        "execution": {
          "iopub.status.busy": "2024-09-05T20:49:40.353804Z",
          "iopub.execute_input": "2024-09-05T20:49:40.354351Z",
          "iopub.status.idle": "2024-09-05T20:49:40.380306Z",
          "shell.execute_reply.started": "2024-09-05T20:49:40.3543Z",
          "shell.execute_reply": "2024-09-05T20:49:40.379205Z"
        },
        "trusted": true,
        "id": "oTeVceNsoR81"
      },
      "execution_count": null,
      "outputs": []
    },
    {
      "cell_type": "markdown",
      "source": [
        "The percentages are pretty similar over all datasets, which is what we want."
      ],
      "metadata": {
        "id": "XfjkLV7ToR81"
      }
    },
    {
      "cell_type": "code",
      "source": [
        "mapped_classes = np.array(['illicit', 'licit'])"
      ],
      "metadata": {
        "execution": {
          "iopub.status.busy": "2024-09-05T20:49:40.38147Z",
          "iopub.execute_input": "2024-09-05T20:49:40.381929Z",
          "iopub.status.idle": "2024-09-05T20:49:40.387474Z",
          "shell.execute_reply.started": "2024-09-05T20:49:40.381872Z",
          "shell.execute_reply": "2024-09-05T20:49:40.386292Z"
        },
        "trusted": true,
        "id": "-maWjbnroR81"
      },
      "execution_count": null,
      "outputs": []
    },
    {
      "cell_type": "markdown",
      "source": [
        "## 1️⃣ - GCN - Graph Convolutional Networks\n",
        "\n",
        "The core idea of a _Graph Convolutional Networks_ (GCN) is to aggregate features from a node's local neighborhood. The feature aggregation is performed using a convolution operation adapted for graph structures.\n",
        "\n",
        "$$\n",
        "H^{(l+1)} = \\sigma\\left( \\tilde{D}^{-\\frac{1}{2}} \\tilde{A} \\tilde{D}^{-\\frac{1}{2}} H^{(l)} W^{(l)} \\right)\n",
        "$$\n",
        "\n",
        "- $H^{(l)}$: Node feature matrix at layer $l$.\n",
        "- $\\tilde{A} = A + I$: Adjacency matrix with added self-loops.\n",
        "- $\\tilde{D}$: Diagonal degree matrix of $\\tilde{A}$.\n",
        "- $W^{(l)}$: Trainable weight matrix at layer $l$.\n",
        "- $\\sigma$: Activation function (e.g., ReLU)."
      ],
      "metadata": {
        "id": "KYcLcnlEoR81"
      }
    },
    {
      "cell_type": "code",
      "source": [
        "# -------------- #\n",
        "# Define the GCN #\n",
        "# -------------- #\n",
        "\n",
        "class GCN(torch.nn.Module):\n",
        "    def __init__(self, num_node_features, num_classes):\n",
        "        super(GCN, self).__init__()\n",
        "        self.conv1 = GCNConv(num_node_features, 16)\n",
        "        self.conv2 = GCNConv(16, num_classes)\n",
        "\n",
        "    def forward(self, data):\n",
        "        x, edge_index = data.x, data.edge_index\n",
        "        x = self.conv1(x, edge_index)\n",
        "        x = F.relu(x)\n",
        "        x = self.conv2(x, edge_index)\n",
        "        return F.log_softmax(x, dim=1)\n",
        "\n",
        "\n",
        "# ---------- #\n",
        "# Initialize #\n",
        "# ---------- #\n",
        "\n",
        "model = GCN(num_node_features=data.num_features, num_classes=len(le.classes_)).to(device)\n",
        "optimizer = torch.optim.Adam(model.parameters(),\n",
        "                             lr=0.01,\n",
        "                             weight_decay=0.0005)\n",
        "criterion = torch.nn.CrossEntropyLoss()  # Since we have a multiclass classification problem.\n",
        "\n",
        "data = data.to(device)"
      ],
      "metadata": {
        "execution": {
          "iopub.status.busy": "2024-09-05T20:49:40.389485Z",
          "iopub.execute_input": "2024-09-05T20:49:40.389836Z",
          "iopub.status.idle": "2024-09-05T20:49:40.480213Z",
          "shell.execute_reply.started": "2024-09-05T20:49:40.389799Z",
          "shell.execute_reply": "2024-09-05T20:49:40.479182Z"
        },
        "trusted": true,
        "id": "DoDahVkCoR81"
      },
      "execution_count": null,
      "outputs": []
    },
    {
      "cell_type": "code",
      "source": [
        "# ----- #\n",
        "# Train #\n",
        "# ----- #\n",
        "\n",
        "train_val_metrics = train_gnn(NUM_EPOCHS,\n",
        "                              data,\n",
        "                              model,\n",
        "                              optimizer,\n",
        "                              criterion)\n",
        "\n",
        "metrics_per_gnn['gcn']['val']['precisions'] = train_val_metrics['val']['precisions']"
      ],
      "metadata": {
        "execution": {
          "iopub.status.busy": "2024-09-05T20:49:40.481848Z",
          "iopub.execute_input": "2024-09-05T20:49:40.482533Z",
          "iopub.status.idle": "2024-09-05T20:49:45.746729Z",
          "shell.execute_reply.started": "2024-09-05T20:49:40.482482Z",
          "shell.execute_reply": "2024-09-05T20:49:45.745647Z"
        },
        "trusted": true,
        "id": "BwpMh_y6oR81"
      },
      "execution_count": null,
      "outputs": []
    },
    {
      "cell_type": "code",
      "source": [
        "# -------- #\n",
        "# Evaluate #\n",
        "# -------- #\n",
        "\n",
        "model.eval()\n",
        "with torch.no_grad():\n",
        "\n",
        "    test_metrics = evaluate(model, data, data.test_mask)\n",
        "    test_acc = test_metrics.get('accuracy')\n",
        "    test_prec = test_metrics.get('precision')\n",
        "    test_rec = test_metrics.get('recall')\n",
        "    test_f1 = test_metrics.get('f1_score')\n",
        "\n",
        "    print(f'Test Acc: {test_acc:.4f} - Prec: {test_prec:.4f} - Rec: {test_rec:.4f} - F1: {test_f1:.4f}')"
      ],
      "metadata": {
        "execution": {
          "iopub.status.busy": "2024-09-05T20:49:45.748024Z",
          "iopub.execute_input": "2024-09-05T20:49:45.748401Z",
          "iopub.status.idle": "2024-09-05T20:49:45.76856Z",
          "shell.execute_reply.started": "2024-09-05T20:49:45.748363Z",
          "shell.execute_reply": "2024-09-05T20:49:45.767358Z"
        },
        "trusted": true,
        "id": "ZfAuWQeGoR81"
      },
      "execution_count": null,
      "outputs": []
    },
    {
      "cell_type": "code",
      "source": [
        "plot_train_val_test_metrics(train_val_metrics, test_metrics, NUM_EPOCHS)"
      ],
      "metadata": {
        "execution": {
          "iopub.status.busy": "2024-09-05T20:49:45.770329Z",
          "iopub.execute_input": "2024-09-05T20:49:45.770673Z",
          "iopub.status.idle": "2024-09-05T20:49:47.03214Z",
          "shell.execute_reply.started": "2024-09-05T20:49:45.770637Z",
          "shell.execute_reply": "2024-09-05T20:49:47.031185Z"
        },
        "trusted": true,
        "id": "jNbErOSwoR81"
      },
      "execution_count": null,
      "outputs": []
    },
    {
      "cell_type": "code",
      "source": [
        "train_pred = predict(model, data)[data.train_mask]\n",
        "test_pred = predict(model, data)[data.test_mask]"
      ],
      "metadata": {
        "execution": {
          "iopub.status.busy": "2024-09-05T20:49:47.033558Z",
          "iopub.execute_input": "2024-09-05T20:49:47.033976Z",
          "iopub.status.idle": "2024-09-05T20:49:47.049497Z",
          "shell.execute_reply.started": "2024-09-05T20:49:47.03393Z",
          "shell.execute_reply": "2024-09-05T20:49:47.048646Z"
        },
        "trusted": true,
        "id": "fUbDfe0EoR81"
      },
      "execution_count": null,
      "outputs": []
    },
    {
      "cell_type": "code",
      "source": [
        "print(le.inverse_transform([0])) # illicit\n",
        "print(le.inverse_transform([1])) # licit\n",
        "print(le.inverse_transform([2])) # unknown"
      ],
      "metadata": {
        "execution": {
          "iopub.status.busy": "2024-09-05T20:49:47.050644Z",
          "iopub.execute_input": "2024-09-05T20:49:47.050955Z",
          "iopub.status.idle": "2024-09-05T20:49:47.058792Z",
          "shell.execute_reply.started": "2024-09-05T20:49:47.05092Z",
          "shell.execute_reply": "2024-09-05T20:49:47.057823Z"
        },
        "trusted": true,
        "id": "hAiMDUr_oR82"
      },
      "execution_count": null,
      "outputs": []
    },
    {
      "cell_type": "code",
      "source": [
        "# --- Classification report ---\n",
        "print(\"Classification Report\")\n",
        "print(\"=====================\\n\")\n",
        "\n",
        "# Train.\n",
        "y_true_train = data.y[data.train_mask].cpu().numpy()\n",
        "y_pred_train = train_pred.cpu().numpy()\n",
        "\n",
        "report_train = classification_report(y_true_train, y_pred_train, target_names=mapped_classes)\n",
        "\n",
        "print(f\"{4*' '}TRAIN\")\n",
        "print(\"---------\")\n",
        "print(report_train)\n",
        "\n",
        "# Test.\n",
        "y_true_test = data.y[data.test_mask].cpu().numpy()\n",
        "y_pred_test = test_pred.cpu().numpy()\n",
        "\n",
        "report_test = classification_report(y_true_test, y_pred_test, target_names=mapped_classes)\n",
        "\n",
        "print(f\"{4*' '}TEST\")\n",
        "print(\"--------\")\n",
        "print(report_test)"
      ],
      "metadata": {
        "execution": {
          "iopub.status.busy": "2024-09-05T20:49:47.060116Z",
          "iopub.execute_input": "2024-09-05T20:49:47.060714Z",
          "iopub.status.idle": "2024-09-05T20:49:47.10024Z",
          "shell.execute_reply.started": "2024-09-05T20:49:47.060529Z",
          "shell.execute_reply": "2024-09-05T20:49:47.099252Z"
        },
        "trusted": true,
        "id": "nsf7tgsFoR82"
      },
      "execution_count": null,
      "outputs": []
    },
    {
      "cell_type": "code",
      "source": [
        "mapped_classes = np.array(['illicit', 'licit'])\n",
        "\n",
        "# --- Confusion matrix ---\n",
        "cm = confusion_matrix(data.y[data.test_mask].cpu(), test_pred.cpu())\n",
        "\n",
        "fig, ax = plt.subplots(figsize=(6, 4))\n",
        "\n",
        "sns.heatmap(cm, annot=True, fmt='g', cmap=plt.cm.Greens,\n",
        "            annot_kws={'size': 15},\n",
        "            xticklabels=mapped_classes,\n",
        "            yticklabels=mapped_classes,\n",
        "            linecolor='black', linewidth=0.5,\n",
        "            ax=ax)\n",
        "plt.xlabel('Predicted Class')\n",
        "plt.ylabel('Actual Class')\n",
        "\n",
        "# Annotate each cell with the percentage of that row.\n",
        "cm_normalized = cm.astype('float') / cm.sum(axis=1)[:, np.newaxis]\n",
        "for i in range(cm.shape[0]):\n",
        "    for j in range(cm.shape[1]):\n",
        "        count = cm[i, j]\n",
        "        percentage = cm_normalized[i, j] * 100\n",
        "        text = f'\\n({percentage:.1f}%)'\n",
        "        color = 'white' if percentage > 95 else 'black'\n",
        "        ax.text(j + 0.5, i + 0.6, text,\n",
        "                ha='center', va='center', fontsize=10, color=color)\n",
        "\n",
        "plt.title('Confusion Matrix (Test set)\\nGraph Convolutional Network (GCN)')\n",
        "plt.show()"
      ],
      "metadata": {
        "execution": {
          "iopub.status.busy": "2024-09-05T20:49:47.101373Z",
          "iopub.execute_input": "2024-09-05T20:49:47.101719Z",
          "iopub.status.idle": "2024-09-05T20:49:47.443643Z",
          "shell.execute_reply.started": "2024-09-05T20:49:47.101681Z",
          "shell.execute_reply": "2024-09-05T20:49:47.442573Z"
        },
        "trusted": true,
        "id": "nbmLwwHmoR82"
      },
      "execution_count": null,
      "outputs": []
    },
    {
      "cell_type": "markdown",
      "source": [
        "- The model is very good at predicting `unknown` class. Simply because it's the majority of the dataset.\n",
        "- The GCN is also decent at predicting if a node is `licit` or not. However, it predicted 42% of all `licit` nodes as being `unknown`.\n",
        "- The model is decent but unsure at predicting `illicit` nodes. It only classified 46% of all `illicit` nodes correctly."
      ],
      "metadata": {
        "id": "iiSkfSvGoR82"
      }
    },
    {
      "cell_type": "code",
      "source": [
        "train_probas = predict_probabilities(model, data)[data.train_mask]\n",
        "test_probas = predict_probabilities(model, data)[data.test_mask]"
      ],
      "metadata": {
        "execution": {
          "iopub.status.busy": "2024-09-05T20:51:07.123367Z",
          "iopub.execute_input": "2024-09-05T20:51:07.124476Z",
          "iopub.status.idle": "2024-09-05T20:51:07.139891Z",
          "shell.execute_reply.started": "2024-09-05T20:51:07.124431Z",
          "shell.execute_reply": "2024-09-05T20:51:07.139099Z"
        },
        "trusted": true,
        "id": "Oq30ek5_oR82"
      },
      "execution_count": null,
      "outputs": []
    },
    {
      "cell_type": "code",
      "source": [
        "train_probas_illicit = train_probas[:, 1].cpu().numpy()\n",
        "train_probas_illicit"
      ],
      "metadata": {
        "execution": {
          "iopub.status.busy": "2024-09-05T20:51:07.595842Z",
          "iopub.execute_input": "2024-09-05T20:51:07.596252Z",
          "iopub.status.idle": "2024-09-05T20:51:07.605227Z",
          "shell.execute_reply.started": "2024-09-05T20:51:07.596213Z",
          "shell.execute_reply": "2024-09-05T20:51:07.603949Z"
        },
        "trusted": true,
        "id": "22RMACN0oR82"
      },
      "execution_count": null,
      "outputs": []
    },
    {
      "cell_type": "code",
      "source": [
        "ALPHA = 0.1\n",
        "\n",
        "train_probas_licit = train_probas[:, 0].cpu().numpy()\n",
        "train_probas_illicit = train_probas[:, 1].cpu().numpy()\n",
        "\n",
        "test_probas_licit = test_probas[:, 0].cpu().numpy()\n",
        "test_probas_illicit = test_probas[:, 1].cpu().numpy()\n",
        "\n",
        "metrics_per_gnn['gcn']['test']['licit']['probas'] = test_probas_licit\n",
        "metrics_per_gnn['gcn']['test']['illicit']['probas'] = test_probas_illicit\n",
        "\n",
        "# -------- #\n",
        "# Plotting #\n",
        "# -------- #\n",
        "\n",
        "plt.figure(figsize=(7, 4))\n",
        "\n",
        "# Plot licit class probabilities\n",
        "sns.kdeplot(train_probas_licit, fill=True, color=\"forestgreen\", linestyle='-', alpha=ALPHA, label=\"Training - Licit\")\n",
        "sns.kdeplot(test_probas_licit, fill=True, color=\"green\", linestyle='--', alpha=ALPHA, label=\"Test - Licit\")\n",
        "\n",
        "# Plot illicit class probabilities\n",
        "sns.kdeplot(train_probas_illicit, fill=True, color=\"salmon\", linestyle='-', alpha=ALPHA, label=\"Training - Illicit\")\n",
        "sns.kdeplot(test_probas_illicit, fill=True, color=\"red\", linestyle='--', alpha=ALPHA, label=\"Test - Illicit\")\n",
        "\n",
        "plt.title(\"GCN - Predicted Probabilities\")\n",
        "plt.xlabel(\"Predicted Probability\")\n",
        "plt.ylabel(\"Density\")\n",
        "plt.legend(loc=\"upper center\")\n",
        "\n",
        "plt.show()"
      ],
      "metadata": {
        "execution": {
          "iopub.status.busy": "2024-09-05T20:51:07.933106Z",
          "iopub.execute_input": "2024-09-05T20:51:07.934124Z",
          "iopub.status.idle": "2024-09-05T20:51:09.160348Z",
          "shell.execute_reply.started": "2024-09-05T20:51:07.934068Z",
          "shell.execute_reply": "2024-09-05T20:51:09.159261Z"
        },
        "trusted": true,
        "id": "Oanacjz_oR82"
      },
      "execution_count": null,
      "outputs": []
    },
    {
      "cell_type": "markdown",
      "source": [
        "## 2️⃣ - GAT - Graph Attention Networks\n",
        "\n",
        "_Graph Attention Networks_ (GAT) introduce attention mechanisms to graphs, where the importance of neighboring nodes is learned via attention coefficients.\n",
        "\n",
        "$$\n",
        "h_i^{(l+1)} = \\sigma\\left( \\sum_{j \\in \\mathcal{N}(i)} \\alpha_{ij}^{(l)} W^{(l)} h_j^{(l)} \\right)\n",
        "$$\n",
        "\n",
        "- $h_i^{(l)}$: Feature vector of node $i$ at layer $l$.\n",
        "- $\\mathcal{N}(i)$: Set of neighbors of node $i$.\n",
        "- $\\alpha_{ij}^{(l)}$: Attention coefficient between node $i$ and node $j$.\n",
        "- $W^{(l)}$: Trainable weight matrix.\n",
        "- $\\sigma$: Activation function.\n",
        "\n",
        "The attention coefficients $\\alpha_{ij}^{(l)}$ are computed as:\n",
        "\n",
        "$$\n",
        "\\alpha_{ij}^{(l)} = \\frac{\\exp\\left(\\text{LeakyReLU}\\left(\\mathbf{a}^T \\left[W^{(l)} h_i^{(l)} \\, \\| \\, W^{(l)} h_j^{(l)}\\right]\\right)\\right)}{\\sum_{k \\in \\mathcal{N}(i)} \\exp\\left(\\text{LeakyReLU}\\left(\\mathbf{a}^T \\left[W^{(l)} h_i^{(l)} \\, \\| \\, W^{(l)} h_k^{(l)}\\right]\\right)\\right)}\n",
        "$$\n",
        "\n",
        "- $\\mathbf{a}$: Attention mechanism parameter vector.\n",
        "- $\\|$: Concatenation operation."
      ],
      "metadata": {
        "id": "luf7XL-XoR82"
      }
    },
    {
      "cell_type": "code",
      "source": [
        "# -------------- #\n",
        "# Define the GAT #\n",
        "# -------------- #\n",
        "\n",
        "class GAT(torch.nn.Module):\n",
        "    def __init__(self, num_node_features, num_classes, num_heads=8):\n",
        "        super(GAT, self).__init__()\n",
        "        self.conv1 = GATConv(num_node_features, 8, heads=num_heads, dropout=0.6)\n",
        "        self.conv2 = GATConv(8 * num_heads, num_classes, heads=1, concat=False, dropout=0.6)\n",
        "\n",
        "    def forward(self, data):\n",
        "        x, edge_index = data.x, data.edge_index\n",
        "        x = self.conv1(x, edge_index)\n",
        "        x = F.elu(x)\n",
        "        x = self.conv2(x, edge_index)\n",
        "        return F.log_softmax(x, dim=1)\n",
        "\n",
        "# ---------- #\n",
        "# Initialize #\n",
        "# ---------- #\n",
        "\n",
        "model = GAT(num_node_features=data.num_features, num_classes=len(le.classes_)).to(device)\n",
        "optimizer = torch.optim.Adam(model.parameters(), lr=0.01, weight_decay=0.0005)\n",
        "criterion = torch.nn.CrossEntropyLoss()  # Since we have a multiclass classification problem.\n",
        "\n",
        "data = data.to(device)"
      ],
      "metadata": {
        "execution": {
          "iopub.status.busy": "2024-09-05T20:51:09.162785Z",
          "iopub.execute_input": "2024-09-05T20:51:09.163254Z",
          "iopub.status.idle": "2024-09-05T20:51:09.29471Z",
          "shell.execute_reply.started": "2024-09-05T20:51:09.163183Z",
          "shell.execute_reply": "2024-09-05T20:51:09.293622Z"
        },
        "trusted": true,
        "id": "Aw8nDCc0oR82"
      },
      "execution_count": null,
      "outputs": []
    },
    {
      "cell_type": "code",
      "source": [
        "# ----- #\n",
        "# Train #\n",
        "# ----- #\n",
        "\n",
        "train_val_metrics = train_gnn(NUM_EPOCHS,\n",
        "                              data,\n",
        "                              model,\n",
        "                              optimizer,\n",
        "                              criterion)\n",
        "\n",
        "metrics_per_gnn['gat']['val']['precisions'] = train_val_metrics['val']['precisions']"
      ],
      "metadata": {
        "execution": {
          "iopub.status.busy": "2024-09-05T20:51:09.295934Z",
          "iopub.execute_input": "2024-09-05T20:51:09.296263Z",
          "iopub.status.idle": "2024-09-05T20:51:16.422689Z",
          "shell.execute_reply.started": "2024-09-05T20:51:09.296226Z",
          "shell.execute_reply": "2024-09-05T20:51:16.421555Z"
        },
        "trusted": true,
        "id": "Y5CsgqJNoR82"
      },
      "execution_count": null,
      "outputs": []
    },
    {
      "cell_type": "code",
      "source": [
        "# -------- #\n",
        "# Evaluate #\n",
        "# -------- #\n",
        "\n",
        "model.eval()\n",
        "with torch.no_grad():\n",
        "\n",
        "    test_metrics = evaluate(model, data, data.test_mask)\n",
        "    test_acc = test_metrics.get('accuracy')\n",
        "    test_prec = test_metrics.get('precision')\n",
        "    test_rec = test_metrics.get('recall')\n",
        "    test_f1 = test_metrics.get('f1_score')\n",
        "\n",
        "    print(f'Test Acc: {test_acc:.4f} - Prec: {test_prec:.4f} - Rec: {test_rec:.4f} - F1: {test_f1:.4f}')"
      ],
      "metadata": {
        "execution": {
          "iopub.status.busy": "2024-09-05T20:51:16.425143Z",
          "iopub.execute_input": "2024-09-05T20:51:16.425502Z",
          "iopub.status.idle": "2024-09-05T20:51:16.449636Z",
          "shell.execute_reply.started": "2024-09-05T20:51:16.425464Z",
          "shell.execute_reply": "2024-09-05T20:51:16.448719Z"
        },
        "trusted": true,
        "id": "1cW6QUn9oR82"
      },
      "execution_count": null,
      "outputs": []
    },
    {
      "cell_type": "code",
      "source": [
        "plot_train_val_test_metrics(train_val_metrics, test_metrics, NUM_EPOCHS)"
      ],
      "metadata": {
        "execution": {
          "iopub.status.busy": "2024-09-05T20:51:16.45104Z",
          "iopub.execute_input": "2024-09-05T20:51:16.451525Z",
          "iopub.status.idle": "2024-09-05T20:51:17.685695Z",
          "shell.execute_reply.started": "2024-09-05T20:51:16.451467Z",
          "shell.execute_reply": "2024-09-05T20:51:17.684567Z"
        },
        "trusted": true,
        "id": "hhDSfzSLoR82"
      },
      "execution_count": null,
      "outputs": []
    },
    {
      "cell_type": "code",
      "source": [
        "test_pred = predict(model, data)[data.test_mask]\n",
        "\n",
        "# --- Confusion matrix ---\n",
        "cm = confusion_matrix(data.y[data.test_mask].cpu(), test_pred.cpu())\n",
        "\n",
        "fig, ax = plt.subplots(figsize=(6, 4))\n",
        "\n",
        "sns.heatmap(cm, annot=True, fmt='g', cmap=plt.cm.Greens,\n",
        "            annot_kws={'size': 15},\n",
        "            xticklabels=mapped_classes,\n",
        "            yticklabels=mapped_classes,\n",
        "            linecolor='black', linewidth=0.5,\n",
        "            ax=ax)\n",
        "plt.xlabel('Predicted Class')\n",
        "plt.ylabel('Actual Class')\n",
        "\n",
        "# Annotate each cell with the percentage of that row.\n",
        "cm_normalized = cm.astype('float') / cm.sum(axis=1)[:, np.newaxis]\n",
        "for i in range(cm.shape[0]):\n",
        "    for j in range(cm.shape[1]):\n",
        "        count = cm[i, j]\n",
        "        percentage = cm_normalized[i, j] * 100\n",
        "        text = f'\\n({percentage:.1f}%)'\n",
        "        color = 'white' if percentage > 95 else 'black'\n",
        "        ax.text(j + 0.5, i + 0.6, text,\n",
        "                ha='center', va='center', fontsize=10, color=color)\n",
        "\n",
        "plt.title('Confusion Matrix\\nGraph Attention Network (GAT)')\n",
        "plt.show()"
      ],
      "metadata": {
        "execution": {
          "iopub.status.busy": "2024-09-05T20:51:17.687155Z",
          "iopub.execute_input": "2024-09-05T20:51:17.687535Z",
          "iopub.status.idle": "2024-09-05T20:51:18.037013Z",
          "shell.execute_reply.started": "2024-09-05T20:51:17.687495Z",
          "shell.execute_reply": "2024-09-05T20:51:18.036072Z"
        },
        "trusted": true,
        "id": "j1Nf1HyIoR82"
      },
      "execution_count": null,
      "outputs": []
    },
    {
      "cell_type": "code",
      "source": [
        "train_probas = predict_probabilities(model, data)[data.train_mask]\n",
        "test_probas = predict_probabilities(model, data)[data.test_mask]"
      ],
      "metadata": {
        "execution": {
          "iopub.status.busy": "2024-09-05T20:51:18.038151Z",
          "iopub.execute_input": "2024-09-05T20:51:18.038467Z",
          "iopub.status.idle": "2024-09-05T20:51:18.065319Z",
          "shell.execute_reply.started": "2024-09-05T20:51:18.038432Z",
          "shell.execute_reply": "2024-09-05T20:51:18.064523Z"
        },
        "trusted": true,
        "id": "AIomkQJkoR83"
      },
      "execution_count": null,
      "outputs": []
    },
    {
      "cell_type": "code",
      "source": [
        "train_probas_illicit = train_probas[:, 1].cpu().numpy()\n",
        "train_probas_illicit"
      ],
      "metadata": {
        "execution": {
          "iopub.status.busy": "2024-09-05T20:51:18.066538Z",
          "iopub.execute_input": "2024-09-05T20:51:18.066959Z",
          "iopub.status.idle": "2024-09-05T20:51:18.074786Z",
          "shell.execute_reply.started": "2024-09-05T20:51:18.066908Z",
          "shell.execute_reply": "2024-09-05T20:51:18.073825Z"
        },
        "trusted": true,
        "id": "ipZ9_uFQoR83"
      },
      "execution_count": null,
      "outputs": []
    },
    {
      "cell_type": "code",
      "source": [
        "ALPHA = 0.1\n",
        "\n",
        "train_probas_licit = train_probas[:, 0].cpu().numpy()\n",
        "train_probas_illicit = train_probas[:, 1].cpu().numpy()\n",
        "\n",
        "test_probas_licit = test_probas[:, 0].cpu().numpy()\n",
        "test_probas_illicit = test_probas[:, 1].cpu().numpy()\n",
        "\n",
        "metrics_per_gnn['gat']['test']['licit']['probas'] = test_probas_licit\n",
        "metrics_per_gnn['gat']['test']['illicit']['probas'] = test_probas_illicit\n",
        "\n",
        "# -------- #\n",
        "# Plotting #\n",
        "# -------- #\n",
        "\n",
        "plt.figure(figsize=(7, 4))\n",
        "\n",
        "# Plot licit class probabilities\n",
        "sns.kdeplot(train_probas_licit, fill=True, color=\"forestgreen\", linestyle='-', alpha=ALPHA, label=\"Training - Licit\")\n",
        "sns.kdeplot(test_probas_licit, fill=True, color=\"green\", linestyle='--', alpha=ALPHA, label=\"Test - Licit\")\n",
        "\n",
        "# Plot illicit class probabilities\n",
        "sns.kdeplot(train_probas_illicit, fill=True, color=\"salmon\", linestyle='-', alpha=ALPHA, label=\"Training - Illicit\")\n",
        "sns.kdeplot(test_probas_illicit, fill=True, color=\"red\", linestyle='--', alpha=ALPHA, label=\"Test - Illicit\")\n",
        "\n",
        "plt.title(\"GAT - Predicted Probabilities\")\n",
        "plt.xlabel(\"Predicted Probability\")\n",
        "plt.ylabel(\"Density\")\n",
        "plt.legend(loc=\"upper center\")\n",
        "\n",
        "plt.show()"
      ],
      "metadata": {
        "execution": {
          "iopub.status.busy": "2024-09-05T20:51:18.076263Z",
          "iopub.execute_input": "2024-09-05T20:51:18.076857Z",
          "iopub.status.idle": "2024-09-05T20:51:19.13762Z",
          "shell.execute_reply.started": "2024-09-05T20:51:18.076815Z",
          "shell.execute_reply": "2024-09-05T20:51:19.136555Z"
        },
        "trusted": true,
        "id": "nlbmxvFsoR83"
      },
      "execution_count": null,
      "outputs": []
    },
    {
      "cell_type": "markdown",
      "source": [
        "## 3️⃣ - GIN - Graph Isomorphism Networks\n",
        "\n",
        "_Graph Isomorphism Networks_ (GINs) are designed to be as powerful as the Weisfeiler-Lehman graph isomorphism test, focusing on distinguishing graph structures.\n",
        "\n",
        "$$\n",
        "h_i^{(l+1)} = \\text{MLP}^{(l)}\\left( (1 + \\epsilon) \\cdot h_i^{(l)} + \\sum_{j \\in \\mathcal{N}(i)} h_j^{(l)} \\right)\n",
        "$$\n",
        "\n",
        "- $h_i^{(l)}$: Feature vector of node $i$ at layer $l$.\n",
        "- $\\mathcal{N}(i)$: Set of neighbors of node $i$.\n",
        "- $\\epsilon$: Learnable or fixed scalar.\n",
        "- $\\text{MLP}^{(l)}$: Multi-layer perceptron at layer $l$.\n",
        "\n",
        "GIN aggregates neighboring node features and then applies an MLP to produce the next layer's node features. The inclusion of $\\epsilon$ allows for distinguishing between a node and its neighbors."
      ],
      "metadata": {
        "id": "g8iIJlQfoR83"
      }
    },
    {
      "cell_type": "code",
      "source": [
        "# -------------- #\n",
        "# Define the GIN #\n",
        "# -------------- #7\n",
        "\n",
        "from torch_geometric.nn import GINConv, global_add_pool\n",
        "import torch.nn.functional as F\n",
        "\n",
        "class GIN(torch.nn.Module):\n",
        "    def __init__(self, num_node_features, num_classes):\n",
        "        super(GIN, self).__init__()\n",
        "\n",
        "        # 1st GIN layer.\n",
        "        nn1 = torch.nn.Sequential(\n",
        "            torch.nn.Linear(num_node_features, 64),\n",
        "            torch.nn.ReLU(),\n",
        "            torch.nn.Linear(64, 64)\n",
        "        )\n",
        "        self.conv1 = GINConv(nn1)\n",
        "\n",
        "        # 2nd GIN layer.\n",
        "        nn2 = torch.nn.Sequential(\n",
        "            torch.nn.Linear(64, 64),\n",
        "            torch.nn.ReLU(),\n",
        "            torch.nn.Linear(64, 64)\n",
        "        )\n",
        "        self.conv2 = GINConv(nn2)\n",
        "        self.fc = torch.nn.Linear(64, num_classes)\n",
        "\n",
        "    def forward(self, data):\n",
        "        x, edge_index, batch = data.x, data.edge_index, data.batch\n",
        "\n",
        "        x = self.conv1(x, edge_index)\n",
        "        x = F.relu(x)\n",
        "        x = self.conv2(x, edge_index)\n",
        "#         x = global_add_pool(x, batch)\n",
        "        x = self.fc(x)\n",
        "\n",
        "        return F.log_softmax(x, dim=1)\n",
        "\n",
        "# ---------- #\n",
        "# Initialize #\n",
        "# ---------- #\n",
        "\n",
        "model = GIN(num_node_features=data.num_features, num_classes=len(le.classes_)).to(device)\n",
        "optimizer = torch.optim.Adam(model.parameters(), lr=0.01, weight_decay=0.0005)\n",
        "criterion = torch.nn.CrossEntropyLoss()\n",
        "\n",
        "# # Handle the class imbalance\n",
        "# class_counts = torch.bincount(data.y)\n",
        "# class_weights = 1. / class_counts.float()\n",
        "# criterion = torch.nn.CrossEntropyLoss(weight=class_weights)\n",
        "\n",
        "data = data.to(device)"
      ],
      "metadata": {
        "execution": {
          "iopub.status.busy": "2024-09-05T21:24:07.502431Z",
          "iopub.execute_input": "2024-09-05T21:24:07.503312Z",
          "iopub.status.idle": "2024-09-05T21:24:07.521273Z",
          "shell.execute_reply.started": "2024-09-05T21:24:07.503253Z",
          "shell.execute_reply": "2024-09-05T21:24:07.520361Z"
        },
        "trusted": true,
        "id": "_9AhaYwCoR83"
      },
      "execution_count": null,
      "outputs": []
    },
    {
      "cell_type": "code",
      "source": [
        "# ----- #\n",
        "# Train #\n",
        "# ----- #\n",
        "\n",
        "train_val_metrics = train_gnn(NUM_EPOCHS,\n",
        "                              data,\n",
        "                              model,\n",
        "                              optimizer,\n",
        "                              criterion)\n",
        "\n",
        "metrics_per_gnn['gin']['val']['precisions'] = train_val_metrics['val']['precisions']"
      ],
      "metadata": {
        "execution": {
          "iopub.status.busy": "2024-09-05T21:24:07.809222Z",
          "iopub.execute_input": "2024-09-05T21:24:07.809699Z",
          "iopub.status.idle": "2024-09-05T21:24:17.280202Z",
          "shell.execute_reply.started": "2024-09-05T21:24:07.80964Z",
          "shell.execute_reply": "2024-09-05T21:24:17.279122Z"
        },
        "trusted": true,
        "id": "CsO1N-NzoR83"
      },
      "execution_count": null,
      "outputs": []
    },
    {
      "cell_type": "code",
      "source": [
        "# -------- #\n",
        "# Evaluate #\n",
        "# -------- #\n",
        "\n",
        "model.eval()\n",
        "with torch.no_grad():\n",
        "\n",
        "    test_metrics = evaluate(model, data, data.test_mask)\n",
        "    test_acc = test_metrics.get('accuracy')\n",
        "    test_prec = test_metrics.get('precision')\n",
        "    test_rec = test_metrics.get('recall')\n",
        "    test_f1 = test_metrics.get('f1_score')\n",
        "\n",
        "    print(f'Test Acc: {test_acc:.4f} - Prec: {test_prec:.4f} - Rec: {test_rec:.4f} - F1: {test_f1:.4f}')"
      ],
      "metadata": {
        "execution": {
          "iopub.status.busy": "2024-09-05T21:24:17.282519Z",
          "iopub.execute_input": "2024-09-05T21:24:17.282988Z",
          "iopub.status.idle": "2024-09-05T21:24:17.326471Z",
          "shell.execute_reply.started": "2024-09-05T21:24:17.282934Z",
          "shell.execute_reply": "2024-09-05T21:24:17.32531Z"
        },
        "trusted": true,
        "id": "IXmSxNF9oR83"
      },
      "execution_count": null,
      "outputs": []
    },
    {
      "cell_type": "code",
      "source": [
        "plot_train_val_test_metrics(train_val_metrics, test_metrics, NUM_EPOCHS)"
      ],
      "metadata": {
        "execution": {
          "iopub.status.busy": "2024-09-05T21:24:17.327616Z",
          "iopub.execute_input": "2024-09-05T21:24:17.328Z",
          "iopub.status.idle": "2024-09-05T21:24:18.607015Z",
          "shell.execute_reply.started": "2024-09-05T21:24:17.327958Z",
          "shell.execute_reply": "2024-09-05T21:24:18.605844Z"
        },
        "trusted": true,
        "id": "V8gTmr7woR83"
      },
      "execution_count": null,
      "outputs": []
    },
    {
      "cell_type": "code",
      "source": [
        "test_pred = predict(model, data)[data.test_mask]\n",
        "\n",
        "# --- Confusion matrix ---\n",
        "cm = confusion_matrix(data.y[data.test_mask].cpu(), test_pred.cpu())\n",
        "\n",
        "fig, ax = plt.subplots(figsize=(6, 4))\n",
        "\n",
        "sns.heatmap(cm, annot=True, fmt='g', cmap=plt.cm.Greens,\n",
        "            annot_kws={'size': 15},\n",
        "            xticklabels=mapped_classes,\n",
        "            yticklabels=mapped_classes,\n",
        "            linecolor='black', linewidth=0.5,\n",
        "            ax=ax)\n",
        "plt.xlabel('Predicted Class')\n",
        "plt.ylabel('Actual Class')\n",
        "\n",
        "# Annotate each cell with the percentage of that row.\n",
        "cm_normalized = cm.astype('float') / cm.sum(axis=1)[:, np.newaxis]\n",
        "for i in range(cm.shape[0]):\n",
        "    for j in range(cm.shape[1]):\n",
        "        count = cm[i, j]\n",
        "        percentage = cm_normalized[i, j] * 100\n",
        "        text = f'\\n({percentage:.1f}%)'\n",
        "        color = 'white' if percentage > 95 else 'black'\n",
        "        ax.text(j + 0.5, i + 0.6, text,\n",
        "                ha='center', va='center', fontsize=10, color=color)\n",
        "\n",
        "plt.title('Confusion Matrix\\nGraph Isomorphism Network (GIN)')\n",
        "plt.show()"
      ],
      "metadata": {
        "execution": {
          "iopub.status.busy": "2024-09-05T21:24:18.60993Z",
          "iopub.execute_input": "2024-09-05T21:24:18.610925Z",
          "iopub.status.idle": "2024-09-05T21:24:19.55733Z",
          "shell.execute_reply.started": "2024-09-05T21:24:18.610866Z",
          "shell.execute_reply": "2024-09-05T21:24:19.556348Z"
        },
        "trusted": true,
        "id": "U0dE-ou3oR83"
      },
      "execution_count": null,
      "outputs": []
    },
    {
      "cell_type": "code",
      "source": [
        "train_probas = predict_probabilities(model, data)[data.train_mask]\n",
        "test_probas = predict_probabilities(model, data)[data.test_mask]"
      ],
      "metadata": {
        "execution": {
          "iopub.status.busy": "2024-09-05T21:24:19.558528Z",
          "iopub.execute_input": "2024-09-05T21:24:19.558843Z",
          "iopub.status.idle": "2024-09-05T21:24:19.643104Z",
          "shell.execute_reply.started": "2024-09-05T21:24:19.558808Z",
          "shell.execute_reply": "2024-09-05T21:24:19.642162Z"
        },
        "trusted": true,
        "id": "8wnljNYOoR83"
      },
      "execution_count": null,
      "outputs": []
    },
    {
      "cell_type": "code",
      "source": [
        "train_probas_illicit = train_probas[:, 1].cpu().numpy()\n",
        "train_probas_illicit"
      ],
      "metadata": {
        "execution": {
          "iopub.status.busy": "2024-09-05T21:24:22.91406Z",
          "iopub.execute_input": "2024-09-05T21:24:22.914486Z",
          "iopub.status.idle": "2024-09-05T21:24:22.923133Z",
          "shell.execute_reply.started": "2024-09-05T21:24:22.914443Z",
          "shell.execute_reply": "2024-09-05T21:24:22.922037Z"
        },
        "trusted": true,
        "id": "1JugN5xuoR83"
      },
      "execution_count": null,
      "outputs": []
    },
    {
      "cell_type": "code",
      "source": [
        "ALPHA = 0.1\n",
        "\n",
        "train_probas_licit = train_probas[:, 0].cpu().numpy()\n",
        "train_probas_illicit = train_probas[:, 1].cpu().numpy()\n",
        "\n",
        "test_probas_licit = test_probas[:, 0].cpu().numpy()\n",
        "test_probas_illicit = test_probas[:, 1].cpu().numpy()\n",
        "\n",
        "metrics_per_gnn['gin']['test']['licit']['probas'] = test_probas_licit\n",
        "metrics_per_gnn['gin']['test']['illicit']['probas'] = test_probas_illicit\n",
        "\n",
        "# -------- #\n",
        "# Plotting #\n",
        "# -------- #\n",
        "\n",
        "plt.figure(figsize=(7, 4))\n",
        "\n",
        "# Plot licit class probabilities\n",
        "sns.kdeplot(train_probas_licit, fill=True, color=\"forestgreen\", linestyle='-', alpha=ALPHA, label=\"Training - Licit\")\n",
        "sns.kdeplot(test_probas_licit, fill=True, color=\"green\", linestyle='--', alpha=ALPHA, label=\"Test - Licit\")\n",
        "\n",
        "# Plot illicit class probabilities\n",
        "sns.kdeplot(train_probas_illicit, fill=True, color=\"salmon\", linestyle='-', alpha=ALPHA, label=\"Training - Illicit\")\n",
        "sns.kdeplot(test_probas_illicit, fill=True, color=\"red\", linestyle='--', alpha=ALPHA, label=\"Test - Illicit\")\n",
        "\n",
        "plt.title(\"GIN - Predicted Probabilities\")\n",
        "plt.xlabel(\"Predicted Probability\")\n",
        "plt.ylabel(\"Density\")\n",
        "plt.legend(loc=\"upper center\")\n",
        "\n",
        "plt.show()"
      ],
      "metadata": {
        "execution": {
          "iopub.status.busy": "2024-09-05T21:24:23.22652Z",
          "iopub.execute_input": "2024-09-05T21:24:23.226955Z",
          "iopub.status.idle": "2024-09-05T21:24:24.403461Z",
          "shell.execute_reply.started": "2024-09-05T21:24:23.226916Z",
          "shell.execute_reply": "2024-09-05T21:24:24.402373Z"
        },
        "trusted": true,
        "id": "fn1IhE9aoR84"
      },
      "execution_count": null,
      "outputs": []
    },
    {
      "cell_type": "markdown",
      "source": [
        "### T-SNE"
      ],
      "metadata": {
        "id": "15frYE78oR84"
      }
    },
    {
      "cell_type": "code",
      "source": [
        "from sklearn.manifold import TSNE\n",
        "from cuml.manifold import TSNE as cuTSNE\n",
        "from sklearn.decomposition import PCA"
      ],
      "metadata": {
        "id": "Kiw8qoy2oR84"
      },
      "execution_count": null,
      "outputs": []
    },
    {
      "cell_type": "code",
      "source": [
        "from sklearn.decomposition import PCA\n",
        "from sklearn.manifold import TSNE\n",
        "\n",
        "# Assume embeddings is your high-dimensional data\n",
        "# First reduce dimensionality with PCA to 2 components if you have only 3 features\n",
        "pca = PCA(n_components=2, random_state=RANDOM_STATE)  # Reduce to 2D if only 3 features\n",
        "embeddings_pca = pca.fit_transform(embeddings)\n",
        "\n",
        "# Then apply t-SNE to the PCA-reduced data\n",
        "tsne = TSNE(n_components=2, random_state=RANDOM_STATE)\n",
        "embeddings_2d = tsne.fit_transform(embeddings_pca)\n",
        "\n",
        "# Visualize the t-SNE results, colored by class labels\n",
        "plt.figure(figsize=(10, 7))\n",
        "scatter = plt.scatter(embeddings_2d[:, 0], embeddings_2d[:, 1], c=data.y.cpu().numpy(), cmap=\"jet\", alpha=0.7)\n",
        "plt.colorbar(scatter, label='Class label')\n",
        "plt.title(\"t-SNE visualization of GIN node embeddings\")\n",
        "plt.show()"
      ],
      "metadata": {
        "execution": {
          "iopub.status.busy": "2024-09-05T21:45:13.335984Z",
          "iopub.execute_input": "2024-09-05T21:45:13.336776Z"
        },
        "trusted": true,
        "id": "1fbRBvQEoR84"
      },
      "execution_count": null,
      "outputs": []
    },
    {
      "cell_type": "code",
      "source": [
        "# ------------------------ #\n",
        "# Randomly subsample nodes #\n",
        "# ------------------------ #\n",
        "\n",
        "subset_size = 5_000\n",
        "indices = np.random.choice(len(embeddings), subset_size, replace=False)\n",
        "embeddings_subset = embeddings[indices]\n",
        "labels_subset = data.y.cpu().numpy()[indices]\n",
        "\n",
        "tsne = TSNE(n_components=2, random_state=RANDOM_STATE)\n",
        "embeddings_2d = tsne.fit_transform(embeddings_subset)\n",
        "\n",
        "plt.figure(figsize=(10, 7))\n",
        "scatter = plt.scatter(embeddings_2d[:, 0], embeddings_2d[:, 1], s=2, c=labels_subset, cmap=\"jet\", alpha=0.7)\n",
        "plt.colorbar(scatter, label='Class label')\n",
        "plt.title(\"t-SNE visualization of GIN node embeddings (subsampled)\")\n",
        "plt.show()"
      ],
      "metadata": {
        "execution": {
          "iopub.status.busy": "2024-09-05T21:44:40.217508Z",
          "iopub.execute_input": "2024-09-05T21:44:40.217937Z",
          "iopub.status.idle": "2024-09-05T21:45:13.333966Z",
          "shell.execute_reply.started": "2024-09-05T21:44:40.217898Z",
          "shell.execute_reply": "2024-09-05T21:45:13.33291Z"
        },
        "trusted": true,
        "id": "EDeNHDMSoR84"
      },
      "execution_count": null,
      "outputs": []
    },
    {
      "cell_type": "code",
      "source": [
        "# --------------------- #\n",
        "# GPU-Accelerated t-SNE #\n",
        "# --------------------- #\n",
        "\n",
        "tsne = cuTSNE(n_components=2, random_state=RANDOM_STATE)#perplexity=10,\n",
        "embeddings_2d = tsne.fit_transform(embeddings)\n",
        "\n",
        "plt.figure(figsize=(10, 7))\n",
        "scatter = plt.scatter(embeddings_2d[:, 0], embeddings_2d[:, 1], s=2, c=data.y.cpu().numpy(), cmap=\"jet\", alpha=0.7)\n",
        "plt.colorbar(scatter, label='Class label')\n",
        "plt.title(\"GPU-accelerated t-SNE visualization of GIN node embeddings\")\n",
        "plt.show()"
      ],
      "metadata": {
        "execution": {
          "iopub.status.busy": "2024-09-05T21:44:10.024412Z",
          "iopub.execute_input": "2024-09-05T21:44:10.024843Z",
          "iopub.status.idle": "2024-09-05T21:44:22.491373Z",
          "shell.execute_reply.started": "2024-09-05T21:44:10.024804Z",
          "shell.execute_reply": "2024-09-05T21:44:22.490374Z"
        },
        "trusted": true,
        "id": "Iq1G6beaoR84"
      },
      "execution_count": null,
      "outputs": []
    },
    {
      "cell_type": "markdown",
      "source": [
        "### Graph Explainability - `GNNExplainer` - TBD\n",
        "\n",
        "The [GNN-Explainer](https://pytorch-geometric.readthedocs.io/en/latest/generated/torch_geometric.explain.algorithm.GNNExplainer.html#torch_geometric.explain.algorithm.GNNExplainer) model from the paper [\"GNNExplainer: Generating Explanations for Graph Neural Networks\"](https://arxiv.org/abs/1903.03894) can be used to identify compact subgraph structures and node features that play a crucial role the predictions made by the GNN."
      ],
      "metadata": {
        "id": "mUg6UOEBoR84"
      }
    },
    {
      "cell_type": "markdown",
      "source": [
        "---\n",
        "\n",
        "# ⚖️ Compare the GNNs"
      ],
      "metadata": {
        "id": "Mxh4IL1yoR84"
      }
    },
    {
      "cell_type": "code",
      "source": [
        "plt.figure(figsize=(8, 4))\n",
        "\n",
        "epochs = range(1, len(metrics_per_gnn['gcn']['val']['precisions']) + 1)\n",
        "\n",
        "plt.plot(epochs, metrics_per_gnn['gcn']['val']['precisions'], color='C0', linewidth=1.2, linestyle='--', label='GCN')\n",
        "plt.plot(epochs, metrics_per_gnn['gat']['val']['precisions'], color='C1', linewidth=1.2, linestyle='-.', label='GAT')\n",
        "plt.plot(epochs, metrics_per_gnn['gin']['val']['precisions'], color='C2', linewidth=1.2, linestyle=':', label='GIN')\n",
        "\n",
        "plt.xlabel('Epoch')\n",
        "plt.ylabel('Precision')\n",
        "plt.title('Validation Precisions Comparison Across GNN Models')\n",
        "plt.legend(fontsize=10)\n",
        "plt.grid(False)\n",
        "plt.tight_layout()\n",
        "plt.show()"
      ],
      "metadata": {
        "execution": {
          "iopub.status.busy": "2024-09-05T21:20:15.16878Z",
          "iopub.execute_input": "2024-09-05T21:20:15.169103Z",
          "iopub.status.idle": "2024-09-05T21:20:15.508101Z",
          "shell.execute_reply.started": "2024-09-05T21:20:15.169067Z",
          "shell.execute_reply": "2024-09-05T21:20:15.507104Z"
        },
        "trusted": true,
        "id": "HFUr8sPooR84"
      },
      "execution_count": null,
      "outputs": []
    },
    {
      "cell_type": "markdown",
      "source": [
        "__Conclusion:__\n",
        "\n",
        "> GIN seems to perform the best overall in terms of precision, especially after stabilizing in the later epochs. It achieved the highest precision but showed initial instability."
      ],
      "metadata": {
        "id": "iCSImXcZoR84"
      }
    },
    {
      "cell_type": "code",
      "source": [
        "ALPHA = 0.9\n",
        "FILL = False\n",
        "\n",
        "plt.figure(figsize=(10, 6))\n",
        "\n",
        "sns.kdeplot(metrics_per_gnn['gcn']['test']['licit']['probas'], fill=FILL, color=\"forestgreen\", linestyle='-', alpha=ALPHA, label=\"GCN - Licit\")\n",
        "sns.kdeplot(metrics_per_gnn['gcn']['test']['illicit']['probas'], fill=FILL, color=\"salmon\", linestyle='-', alpha=ALPHA, label=\"GCN - Illicit\")\n",
        "\n",
        "sns.kdeplot(metrics_per_gnn['gat']['test']['licit']['probas'], fill=FILL, color=\"darkgreen\", linestyle='--', alpha=ALPHA, label=\"GAT - Licit\")\n",
        "sns.kdeplot(metrics_per_gnn['gat']['test']['illicit']['probas'], fill=FILL, color=\"red\", linestyle='--', alpha=ALPHA, label=\"GAT - Illicit\")\n",
        "\n",
        "sns.kdeplot(metrics_per_gnn['gin']['test']['licit']['probas'], fill=FILL, color=\"lightgreen\", linestyle=':', alpha=ALPHA, label=\"GIN - Licit\")\n",
        "sns.kdeplot(metrics_per_gnn['gin']['test']['illicit']['probas'], fill=FILL, color=\"darkred\", linestyle=':', alpha=ALPHA, label=\"GIN - Illicit\")\n",
        "\n",
        "plt.title(\"Predicted Probabilities Comparison Across GNN Models\")\n",
        "plt.xlabel(\"Predicted Probability\")\n",
        "plt.ylabel(\"Density\")\n",
        "plt.legend(loc=\"upper center\", bbox_to_anchor=(0.5, -0.1), ncol=2)\n",
        "plt.tight_layout()\n",
        "\n",
        "plt.show()"
      ],
      "metadata": {
        "execution": {
          "iopub.status.busy": "2024-09-05T21:20:15.509831Z",
          "iopub.execute_input": "2024-09-05T21:20:15.510558Z",
          "iopub.status.idle": "2024-09-05T21:20:16.289708Z",
          "shell.execute_reply.started": "2024-09-05T21:20:15.510502Z",
          "shell.execute_reply": "2024-09-05T21:20:16.288747Z"
        },
        "trusted": true,
        "id": "OoJSpviGoR84"
      },
      "execution_count": null,
      "outputs": []
    },
    {
      "cell_type": "code",
      "source": [
        "data_temp = []\n",
        "\n",
        "for model in ['gcn', 'gat', 'gin']:\n",
        "    for category in ['licit', 'illicit']:\n",
        "        probas = metrics_per_gnn[model]['test'][category]['probas']\n",
        "        data_temp.extend([(model.upper(), category.capitalize(), proba) for proba in probas])\n",
        "\n",
        "temp = pd.DataFrame(data_temp, columns=['Model', 'Class', 'Probability'])\n",
        "\n",
        "plt.figure(figsize=(8, 4))\n",
        "\n",
        "flierprops = dict(marker='o', markerfacecolor='None', markersize=5,  markeredgecolor='C0', alpha=0.2)\n",
        "\n",
        "ax = sns.boxplot(y='Model', x='Probability', hue='Class', data=temp,\n",
        "                 linewidth=2.5,\n",
        "                 fliersize=0.5,\n",
        "                 palette={\n",
        "                     'Licit': 'forestgreen',\n",
        "                     'Illicit': 'indianred'\n",
        "                 },\n",
        "                 flierprops=flierprops\n",
        ")\n",
        "\n",
        "\n",
        "plt.grid(True, which='both', axis='x', color='lightgrey', linestyle='-', linewidth=0.5)\n",
        "plt.title(\"Comparison of Predicted Probabilities Across GNN's\")\n",
        "plt.xlabel(\"Predicted Probability\")\n",
        "plt.ylabel(\"GNN Model\")\n",
        "plt.legend(loc=\"center left\", bbox_to_anchor=(1, 0.5), ncol=1)\n",
        "plt.tight_layout()\n",
        "plt.show()"
      ],
      "metadata": {
        "execution": {
          "iopub.status.busy": "2024-09-05T21:20:16.2929Z",
          "iopub.execute_input": "2024-09-05T21:20:16.293258Z",
          "iopub.status.idle": "2024-09-05T21:20:16.699403Z",
          "shell.execute_reply.started": "2024-09-05T21:20:16.293219Z",
          "shell.execute_reply": "2024-09-05T21:20:16.69836Z"
        },
        "trusted": true,
        "id": "j2HbCdc3oR84"
      },
      "execution_count": null,
      "outputs": []
    },
    {
      "cell_type": "code",
      "source": [
        "# ------------------------------------------- #\n",
        "# Running a t-test to compare the means of    #\n",
        "# licit vs illicit predictions for each model #\n",
        "# ------------------------------------------- #\n",
        "\n",
        "comparisons = [('gcn', 'gat'), ('gcn', 'gin'), ('gat', 'gin')]\n",
        "results = []\n",
        "\n",
        "for model1, model2 in comparisons:\n",
        "    for category in ['licit', 'illicit']:\n",
        "        probas1 = metrics_per_gnn[model1]['test'][category]['probas']\n",
        "        probas2 = metrics_per_gnn[model2]['test'][category]['probas']\n",
        "        t_stat, p_val = ttest_ind(probas1, probas2, equal_var=False)\n",
        "        if p_val < 0.05:\n",
        "            results.append(f\"Significant difference between {model1.upper()} and {model2.upper()} for {category.capitalize()} predictions (p-value: {p_val:.4f})\")\n",
        "\n",
        "for result in results:\n",
        "    print(result)"
      ],
      "metadata": {
        "execution": {
          "iopub.status.busy": "2024-09-05T21:20:16.700824Z",
          "iopub.execute_input": "2024-09-05T21:20:16.701226Z",
          "iopub.status.idle": "2024-09-05T21:20:16.728421Z",
          "shell.execute_reply.started": "2024-09-05T21:20:16.701182Z",
          "shell.execute_reply": "2024-09-05T21:20:16.727148Z"
        },
        "trusted": true,
        "id": "Ib5Xd8kcoR84"
      },
      "execution_count": null,
      "outputs": []
    },
    {
      "cell_type": "code",
      "source": [
        "combinations = [('GCN', 'GAT'), ('GCN', 'GIN'), ('GAT', 'GIN')]\n",
        "\n",
        "fig, axes = plt.subplots(1, 3, figsize=(15, 4))\n",
        "\n",
        "for ax, (model1, model2) in zip(axes, combinations):\n",
        "    scatter_data = pd.DataFrame({\n",
        "        f'{model1}_Probabilities': temp[temp['Model'] == model1]['Probability'].values,\n",
        "        f'{model2}_Probabilities': temp[temp['Model'] == model2]['Probability'].values\n",
        "    })\n",
        "\n",
        "    sns.scatterplot(\n",
        "        data=scatter_data,\n",
        "        x=f'{model1}_Probabilities',\n",
        "        y=f'{model2}_Probabilities',\n",
        "        color='C0',\n",
        "        edgecolor='white',\n",
        "        marker='o',\n",
        "        alpha=0.3, ax=ax\n",
        "    )\n",
        "\n",
        "    corr_value = np.corrcoef(temp[temp['Model'] == model1]['Probability'],\n",
        "                             temp[temp['Model'] == model2]['Probability'])[0, 1]\n",
        "\n",
        "    ax.plot([0, 1], [0, 1], ls='--', color='lightcoral', label=f'Perfect Correlation', alpha=1.0)\n",
        "\n",
        "    ax.set_title(f'{model1} vs {model2}\\nCorr: {corr_value:.3f}')\n",
        "    ax.set_xlabel(f'{model1} Probabilities')\n",
        "    ax.set_ylabel(f'{model2} Probabilities')\n",
        "    ax.legend(loc='upper left')\n",
        "\n",
        "plt.tight_layout()\n",
        "plt.show()"
      ],
      "metadata": {
        "execution": {
          "iopub.status.busy": "2024-09-05T21:20:16.73009Z",
          "iopub.execute_input": "2024-09-05T21:20:16.730478Z",
          "iopub.status.idle": "2024-09-05T21:20:17.794111Z",
          "shell.execute_reply.started": "2024-09-05T21:20:16.730437Z",
          "shell.execute_reply": "2024-09-05T21:20:17.793054Z"
        },
        "trusted": true,
        "id": "OM3_HSXboR84"
      },
      "execution_count": null,
      "outputs": []
    },
    {
      "cell_type": "markdown",
      "source": [
        "# ToDos\n",
        "\n",
        "- [x] Outsource the code used for each GNN into global methods. Will make the notebook shorter and more readable.\n",
        "- [x] Train only on known nodes. Then validate on a small set of known nodes which was not trained on. Then predict on the unknown.\n",
        "- [x] Implement GIN as well.\n",
        "- [x] Compare all the models.\n",
        "- [ ] Add short explanations for each GNN type + formulas.\n",
        "- [ ] Develop a baseline model (non-GNN).\n",
        "- [ ] Perform some graph explanability methods. for example GNNExplainer.\n",
        "- [ ] Perform analysis on different sizes of node features and how they influence the performance."
      ],
      "metadata": {
        "id": "p5YcPfiFoR84"
      }
    },
    {
      "cell_type": "markdown",
      "source": [
        "\n"
      ],
      "metadata": {
        "id": "8jm5nZdUoR85"
      }
    }
  ]
}